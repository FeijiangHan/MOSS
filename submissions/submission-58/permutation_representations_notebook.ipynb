{
 "cells": [
  {
   "cell_type": "markdown",
   "id": "c0cffe24-dbf9-4350-92a3-28eb98bcbf4a",
   "metadata": {
    "scrolled": true
   },
   "source": [
    "# Effect of input representations on learning Jupyter Notebook\n",
    "### ICML 2025 Workshop on Methods and Opportunities at Small Scale\n",
    "### May, 2025"
   ]
  },
  {
   "cell_type": "markdown",
   "id": "14ff46aa-29e1-424e-b166-fb16a7f48ec3",
   "metadata": {},
   "source": [
    "This is the accompanying tutorial notebook for the paper *Permutations as a testbed for studying the effect of input representations on learning*. In this notebook, we explain how to generate different representations of permutations, as well as how to compute various statistics on this permutation data for use in downstream classification tasks. We provide the code to generate two example permutation datasets and show how to train a simple MLP classification model on the data. The MLP model performance between the two generated datasets are very different, supporting our interest in the impact that data representation choice can have on learning\n",
    "outcomes.\n",
    "\n",
    "In explaining the specific representations and statistics used to generate results in the paper, we aim to make permutation datasets more readily suited for continuing research in this direction. "
   ]
  },
  {
   "cell_type": "markdown",
   "id": "2973f84b-ff0c-431d-bfb7-a4e810b2c247",
   "metadata": {},
   "source": [
    "## Installation:\n",
    "\n",
    "Since SageMath is not pip installable, we need to use conda. The cells below assume you are running this in google colab. \n",
    "\n",
    "Alternatively, to run this notebook locally using a conda environment:\n",
    "```\n",
    "conda create -n permutation sage jupyter ipykernel python=3.11\n",
    "conda activate permutation\n",
    "python -m pip install torch tqdm\n",
    "python -m ipykernel install --user --name permutation --display-name permutation\n",
    "```"
   ]
  },
  {
   "cell_type": "code",
   "execution_count": null,
   "id": "079d6c42-c0bf-4263-8788-01e0672010b0",
   "metadata": {
    "scrolled": true
   },
   "outputs": [],
   "source": [
    "#This cell took between 5 and 30 minutes to execute\n",
    "!wget -q https://repo.continuum.io/miniconda/Miniconda3-latest-Linux-x86_64.sh\n",
    "!bash Miniconda3-latest-Linux-x86_64.sh -b -p /content/miniconda\n",
    "\n",
    "import os\n",
    "os.environ['PATH'] = \"/content/miniconda/bin:\" + os.environ['PATH']\n",
    "\n",
    "!conda config --add channels conda-forge --quiet\n",
    "!conda install sage python=3.11 -y --quiet"
   ]
  },
  {
   "cell_type": "code",
   "execution_count": null,
   "id": "68b097b9-d3d1-4f74-9491-272649d907fe",
   "metadata": {},
   "outputs": [],
   "source": [
    "import sys\n",
    "sage_site_packages = '/content/miniconda/lib/python3.11/site-packages'\n",
    "if sage_site_packages not in sys.path:\n",
    "    sys.path.insert(0, sage_site_packages)\n",
    "\n",
    "from sage.all import *"
   ]
  },
  {
   "cell_type": "code",
   "execution_count": 62,
   "id": "00e3810f-8a08-4aa0-bf9a-692b04457afd",
   "metadata": {
    "scrolled": true
   },
   "outputs": [],
   "source": [
    "# Import relevant packages\n",
    "import numpy as np\n",
    "import math\n",
    "import os\n",
    "import pickle\n",
    "from tqdm import tqdm\n",
    "\n",
    "import torch\n",
    "import torch.nn as nn\n",
    "from torch.utils.data import DataLoader, TensorDataset\n",
    "\n",
    "import matplotlib.pyplot as plt"
   ]
  },
  {
   "cell_type": "markdown",
   "id": "e5b66895-2d10-470a-b5d1-ade3abcb042a",
   "metadata": {},
   "source": [
    "# How to generate different representations of permutations"
   ]
  },
  {
   "cell_type": "markdown",
   "id": "ccacca48-fa13-4acd-bf0d-db7ca9d51ca5",
   "metadata": {},
   "source": [
    "We begin with an example permutation in one-line notation."
   ]
  },
  {
   "cell_type": "code",
   "execution_count": 63,
   "id": "6a8bb95b-9344-433a-b4d0-d26f37d5bdcd",
   "metadata": {},
   "outputs": [
    {
     "name": "stdout",
     "output_type": "stream",
     "text": [
      "Original permutation (one-line notation): [2, 5, 3, 4, 1]\n"
     ]
    }
   ],
   "source": [
    "x = Permutation([2,5,3,4,1]) \n",
    "print(f'Original permutation (one-line notation): {x}')"
   ]
  },
  {
   "cell_type": "markdown",
   "id": "e766a933-d163-46b5-a2f7-eb53c28653eb",
   "metadata": {},
   "source": [
    "### Permutation matrix\n",
    "The permutation matrix representation of a permutation is the one-hot encoding of the one line notation, so the $(i, j)$th entry of the permutation matrix is 1 precisely when $\\sigma(i) = j$, and 0 otherwise. The permutation matrix representation of $2 4 3 1$ is:\n",
    "$$\n",
    "\\begin{pmatrix}\n",
    "0 & 1 & 0 & 0 \\\\\n",
    "0 & 0 & 0 & 1 \\\\\n",
    "0 & 0 & 1 & 0 \\\\\n",
    "1 & 0 & 0 & 0\n",
    "\\end{pmatrix}\n",
    "$$"
   ]
  },
  {
   "cell_type": "code",
   "execution_count": 10,
   "id": "040d8002-da1e-4026-a393-d749f38a0ccf",
   "metadata": {},
   "outputs": [
    {
     "name": "stdout",
     "output_type": "stream",
     "text": [
      "[0 0 0 0 1]\n",
      "[1 0 0 0 0]\n",
      "[0 0 1 0 0]\n",
      "[0 0 0 1 0]\n",
      "[0 1 0 0 0]\n"
     ]
    }
   ],
   "source": [
    "permutation_matrix = x.to_matrix()\n",
    "print(permutation_matrix)"
   ]
  },
  {
   "cell_type": "markdown",
   "id": "3cac2165-9afa-47bc-aae9-1533d827c895",
   "metadata": {},
   "source": [
    "### Inversion vector\n",
    "The inversion vector of a permutation is the vector where the $i$th entry gives the number of $j > i$ that appear before $i$ in the permutation. The inversion vector of the permutation 2 5 3 4 1 is $(4, 0, 1, 1, 0)$."
   ]
  },
  {
   "cell_type": "code",
   "execution_count": 11,
   "id": "3d9fc41b-e465-4e67-ba21-8f6fa7bbf262",
   "metadata": {},
   "outputs": [
    {
     "name": "stdout",
     "output_type": "stream",
     "text": [
      "[4, 0, 1, 1, 0]\n"
     ]
    }
   ],
   "source": [
    "inversion_vector = x.to_inversion_vector()\n",
    "print(inversion_vector)"
   ]
  },
  {
   "cell_type": "markdown",
   "id": "29ddb0b9-75f0-476d-a78f-4c64f7b4ba81",
   "metadata": {},
   "source": [
    "### Lehmer cocode\n",
    "The Lehmer cocode is also based on inversions, but the $i$th entry is the number of $j < i$ with $\\sigma(j) > \\sigma(i)$. The Lehmer cocode of the permutation is 2 5 3 4 1 is $(0, 0, 1, 1, 4)$. Note that applying the permutation $\\sigma$ to the Lehmer cocode gives the inversion vector. "
   ]
  },
  {
   "cell_type": "code",
   "execution_count": 29,
   "id": "7a35b0fb-462a-41db-a778-0e9bd3820304",
   "metadata": {},
   "outputs": [
    {
     "name": "stdout",
     "output_type": "stream",
     "text": [
      "[0, 0, 1, 1, 4]\n"
     ]
    }
   ],
   "source": [
    "lehmer_cocode = x.to_lehmer_cocode()\n",
    "print(lehmer_cocode)"
   ]
  },
  {
   "cell_type": "markdown",
   "id": "6bbd57c3-f6d1-4534-b6a4-0c960c5a0e55",
   "metadata": {},
   "source": [
    "### Major code \n",
    "The *major code* is the vector $(m_1-m_2, m_2 - m_3, \\ldots, m_n)$, where $m_i$ is the sum of all of the descents of the permutation (also called the major index) obtained by erasing letters smaller than $i$ from the permutation. For example, for the permutation $2 5 3 4 1$, $m_1 = 6$, $m_2 =2$, $m_3 = 2$ and $m_4 = m_5 = 0$, so the major code is $(4, 1, 0, 1, 0)$."
   ]
  },
  {
   "cell_type": "code",
   "execution_count": 30,
   "id": "ef07fbb0-6b96-46a3-9ec6-bd0517bbf10a",
   "metadata": {},
   "outputs": [
    {
     "name": "stdout",
     "output_type": "stream",
     "text": [
      "[4, 1, 0, 1, 0]\n"
     ]
    }
   ],
   "source": [
    "major_code = x.to_major_code()\n",
    "print(major_code)"
   ]
  },
  {
   "cell_type": "markdown",
   "id": "b8a33bab-e037-4cde-a613-708aa911389c",
   "metadata": {},
   "source": [
    "### Lexicographically minimal reduced word\n",
    "Finally, we also represent permutations using the reduced word for the permutation that is smallest in lexicographic order. We pad with zeros so that the reduced words are all the same length. "
   ]
  },
  {
   "cell_type": "code",
   "execution_count": 96,
   "id": "2df44a8e-7b15-4d75-b5e1-9ddd034abf59",
   "metadata": {},
   "outputs": [
    {
     "name": "stdout",
     "output_type": "stream",
     "text": [
      "[1 2 3 4 3 2 0 0 0 0]\n"
     ]
    }
   ],
   "source": [
    "def compute_reduced_word_lexmin(x):\n",
    "    n = max(x)\n",
    "    L = Permutation(x).reduced_word_lexmin()\n",
    "    if len(L) < math.comb(n, 2):\n",
    "        newL = L + [0]*(math.comb(n, 2) - len(L))\n",
    "        return np.array(newL)\n",
    "    else:\n",
    "        return np.array(L)\n",
    "\n",
    "reduced_word_lexmin = compute_reduced_word_lexmin(x)\n",
    "print(reduced_word_lexmin)"
   ]
  },
  {
   "cell_type": "markdown",
   "id": "f2ac7bb0-14ac-4aab-9a26-d6807144a4a1",
   "metadata": {},
   "source": [
    "# How to compute statistics on permutation data"
   ]
  },
  {
   "cell_type": "markdown",
   "id": "a1b05041-166e-4bfb-9808-79d89849431b",
   "metadata": {},
   "source": [
    "The permutations module from SAGE math is very useful to quickly compute statistics of permutations. Start with an example permutation, x.\n"
   ]
  },
  {
   "cell_type": "code",
   "execution_count": 32,
   "id": "ee0650a6-2e8c-4915-93f2-abd07d57b5a9",
   "metadata": {},
   "outputs": [
    {
     "name": "stdout",
     "output_type": "stream",
     "text": [
      "Original permutation (one-line notation): [2, 5, 3, 4, 1]\n"
     ]
    }
   ],
   "source": [
    "print(f'Original permutation (one-line notation): {x}')"
   ]
  },
  {
   "cell_type": "markdown",
   "id": "ef4b2dde-df87-49fb-8167-5c2c9321d0a3",
   "metadata": {},
   "source": [
    "### Length\n",
    "The length (or Coxeter length) of a permutation is the number of inversions of the permutation, or, equivalently, the length of a reduced word for the permutation. \n",
    "Note that the length of the permutation is simply the sum of the inversion vector or the Lehmer cocode."
   ]
  },
  {
   "cell_type": "code",
   "execution_count": 33,
   "id": "580acc56-a84a-4082-a73d-9600443c8a66",
   "metadata": {},
   "outputs": [
    {
     "name": "stdout",
     "output_type": "stream",
     "text": [
      "6\n"
     ]
    }
   ],
   "source": [
    "length = x.length()\n",
    "print(length)"
   ]
  },
  {
   "cell_type": "markdown",
   "id": "0becd76c-36aa-4265-87ea-fbe360fe7ee4",
   "metadata": {},
   "source": [
    "### Permutation parity\n",
    "The parity of a permutation is the even/oddness of its length. A permutation is even if and only if its length is an even number. \n",
    "Note that the parity of a permutation can be computed from the inversion vector or the Lehmer cocode by computing the parity of its sum. \n"
   ]
  },
  {
   "cell_type": "code",
   "execution_count": 34,
   "id": "b52571b4-fc3c-4d85-abf8-adf205492142",
   "metadata": {},
   "outputs": [
    {
     "name": "stdout",
     "output_type": "stream",
     "text": [
      "True\n"
     ]
    }
   ],
   "source": [
    "parity = x.is_even()\n",
    "print(parity)"
   ]
  },
  {
   "cell_type": "markdown",
   "id": "4bf4fe21-31e9-48b8-9634-7e96c62b80da",
   "metadata": {},
   "source": [
    "### Major index\n",
    "The major index of a permutation is the sum of all of the descents. \n",
    "Note that the major index is the sum of the major code. "
   ]
  },
  {
   "cell_type": "code",
   "execution_count": 35,
   "id": "ac7b3a48-a6ab-47d6-9d6a-8fcf97fc81e7",
   "metadata": {},
   "outputs": [
    {
     "name": "stdout",
     "output_type": "stream",
     "text": [
      "6\n"
     ]
    }
   ],
   "source": [
    "major_index = x.major_index()\n",
    "print(major_index)"
   ]
  },
  {
   "cell_type": "markdown",
   "id": "d1494f0b-8375-4dda-9a26-c85358df03cb",
   "metadata": {},
   "source": [
    "### Number of descents"
   ]
  },
  {
   "cell_type": "code",
   "execution_count": 36,
   "id": "171db60c-d0c9-4351-9744-5f06b3af6f1f",
   "metadata": {},
   "outputs": [
    {
     "name": "stdout",
     "output_type": "stream",
     "text": [
      "2\n"
     ]
    }
   ],
   "source": [
    "num_descents = x.number_of_descents()\n",
    "print(num_descents)"
   ]
  },
  {
   "cell_type": "markdown",
   "id": "37672d9e-a271-4ce3-a128-ecd53a457e44",
   "metadata": {},
   "source": [
    "### Number of fixed points\n",
    "The number of fixed points in a permutation are the number of values $i$ such that $\\sigma(i) = i$.\n",
    "Note that the number of fixed points in the permutation is the trace of the permutation matrix. "
   ]
  },
  {
   "cell_type": "code",
   "execution_count": 37,
   "id": "d485477f-678c-4e15-9cd9-6f3e9f7295f9",
   "metadata": {},
   "outputs": [
    {
     "name": "stdout",
     "output_type": "stream",
     "text": [
      "2\n"
     ]
    }
   ],
   "source": [
    "num_fixed_points = len(x.fixed_points())\n",
    "print(num_fixed_points)"
   ]
  },
  {
   "cell_type": "markdown",
   "id": "f58918e1-488c-48d7-9ad7-2631af8a369e",
   "metadata": {},
   "source": [
    "### Number of peaks\n",
    "A peak of a permutation is an integer $i$ such that $\\sigma(i-1) < \\sigma(i)$ and $\\sigma(i) > \\sigma(i+1)$.\n"
   ]
  },
  {
   "cell_type": "code",
   "execution_count": 38,
   "id": "3a120dca-20cf-4c62-8995-4b76b6d1c46f",
   "metadata": {},
   "outputs": [
    {
     "name": "stdout",
     "output_type": "stream",
     "text": [
      "2\n"
     ]
    }
   ],
   "source": [
    "num_peaks = x.number_of_peaks()\n",
    "print(num_peaks)"
   ]
  },
  {
   "cell_type": "markdown",
   "id": "b348e6da-cb4d-4b6b-8f00-33a65411b691",
   "metadata": {},
   "source": [
    "### Longest increasing subsequence length\n",
    "The longest increasing subsequence of $\\sigma$ is the longest sequence $i_{1} < i_{2} < \\cdots < i_{n}$ with $\\sigma_{i_{1}} < \\sigma_{i_{2}} < \\cdots < \\sigma_{i_{n}}$. \n"
   ]
  },
  {
   "cell_type": "code",
   "execution_count": 39,
   "id": "586e9ede-7f6a-41a5-983e-7dd35e1e7106",
   "metadata": {},
   "outputs": [
    {
     "name": "stdout",
     "output_type": "stream",
     "text": [
      "3\n"
     ]
    }
   ],
   "source": [
    "longest_inc_subsequence_len = x.longest_increasing_subsequence_length()\n",
    "print(longest_inc_subsequence_len)"
   ]
  },
  {
   "cell_type": "markdown",
   "id": "1ce3a835-6e4f-4780-9ffb-9e9deb5d02d2",
   "metadata": {},
   "source": [
    "### Number of nestings\n",
    "A nesting of a permutation is a pair $(i, j)$ such that $j < i < \\sigma(i) < \\sigma(j)$ or $\\sigma(j) < \\sigma(i) \\leq i < j$. This definition comes from the permutation diagram.\n"
   ]
  },
  {
   "cell_type": "code",
   "execution_count": 40,
   "id": "217a2287-0cf0-4e01-b453-cd6ad7a0093e",
   "metadata": {},
   "outputs": [
    {
     "name": "stdout",
     "output_type": "stream",
     "text": [
      "2\n"
     ]
    }
   ],
   "source": [
    "def count_nestings(pi):\n",
    "    '''\n",
    "    Code from https://www.findstat.org/StatisticsDatabase/St000223/\n",
    "    '''\n",
    "    ne = 0\n",
    "    n = len(pi)\n",
    "    for i in range(n):\n",
    "        for j in range(n):\n",
    "            if (j < i < pi[i] < pi[j] or pi[j] < pi[i] <= i < j):\n",
    "                ne = ne+1\n",
    "    return ne\n",
    "\n",
    "number_nestings = count_nestings(x)\n",
    "print(number_nestings)"
   ]
  },
  {
   "cell_type": "markdown",
   "id": "f2f03805-1516-4d68-96f8-cfbcf841e0f5",
   "metadata": {},
   "source": [
    "### Order\n",
    "The order of a permutation is the smallest positive integer $m$ so that applying the permutation $m$ times is equivalent to the identity permutation. The order of a permutation is the least common multiple of the lengths of its cycles. \n"
   ]
  },
  {
   "cell_type": "code",
   "execution_count": 41,
   "id": "4aabfd18-189e-43c9-a95f-8f2a7943f13e",
   "metadata": {},
   "outputs": [
    {
     "name": "stdout",
     "output_type": "stream",
     "text": [
      "3\n"
     ]
    }
   ],
   "source": [
    "def compute_order(x):\n",
    "    return lcm(x.cycle_type())\n",
    "\n",
    "order = compute_order(x)\n",
    "print(order)"
   ]
  },
  {
   "cell_type": "markdown",
   "id": "af3620fc-76ce-4477-8f29-2536d7b0a161",
   "metadata": {},
   "source": [
    "### Number of cycles\n",
    "The number of cycles is the number of cycles in the representation of the permutation as a product of disjoint cycles. (Including cycles of length 1). \n"
   ]
  },
  {
   "cell_type": "code",
   "execution_count": 42,
   "id": "43fbdcd8-af3e-4058-903b-590dfefe9f10",
   "metadata": {},
   "outputs": [
    {
     "name": "stdout",
     "output_type": "stream",
     "text": [
      "3\n"
     ]
    }
   ],
   "source": [
    "def count_cycles(x):\n",
    "    return len(x.cycle_type())\n",
    "\n",
    "num_cycles = count_cycles(x)\n",
    "print(num_cycles)"
   ]
  },
  {
   "cell_type": "markdown",
   "id": "9b7004b7-886a-4831-a97c-acc6909584f8",
   "metadata": {},
   "source": [
    "### Cardinality of the support\n",
    "The support of a permutation are the indices that appear in a reduced word of that permutation (which are independent of the reduced word chosen). The cardinality of the support is the number of distinct indices in the support.  \n"
   ]
  },
  {
   "cell_type": "code",
   "execution_count": 43,
   "id": "eec1ed58-3f34-4f3c-a904-07b17e02e4b3",
   "metadata": {},
   "outputs": [
    {
     "name": "stdout",
     "output_type": "stream",
     "text": [
      "4\n"
     ]
    }
   ],
   "source": [
    "def compute_support_cardinality(x):\n",
    "    '''\n",
    "    Code from https://www.findstat.org/StatisticsDatabase/St000019/\n",
    "    '''\n",
    "    return len(set(x.reduced_word()))\n",
    "\n",
    "support_cardinality = compute_support_cardinality(x)\n",
    "print(support_cardinality)"
   ]
  },
  {
   "cell_type": "markdown",
   "id": "f0505a3a-56b4-463d-8f4c-cb3667e46d76",
   "metadata": {},
   "source": [
    "### Number of stack sorts\n",
    "The number of stack sorts needed to sort a permutation. A permutation is *stack sortable* if it can be sorted by the following algorithm: \n",
    "\n",
    "- Initialize an empty stack and empty final output\n",
    "- For each element $x$ in the input permutation: (a) while the stack is nonempty and $x$ is larger than the last item added to the stack, pop this item from the stack to the output (b) put $x$ onto the stack\n",
    "- If the stack is nonempty, add remaining stack to the output. \n",
    "\n",
    "When we apply this algorithm to the permutation $2 5 3 4 1$, we get the permutation $2 3 1 4 5$. After two more stack sorts we get the identity permutation, so the number of stack sorts needed to sort the permutation is 3. \n"
   ]
  },
  {
   "cell_type": "code",
   "execution_count": 44,
   "id": "f5581a23-7a70-43c4-992c-e778f0025f45",
   "metadata": {},
   "outputs": [
    {
     "name": "stdout",
     "output_type": "stream",
     "text": [
      "3\n"
     ]
    }
   ],
   "source": [
    "def stack_sort(x):\n",
    "    '''\n",
    "    Code from https://www.findstat.org/StatisticsDatabase/St000028/\n",
    "    '''\n",
    "    stack = []\n",
    "    result = []\n",
    "    for e in x:\n",
    "        while stack and e > stack[-1]:\n",
    "            result += [stack.pop()]\n",
    "        stack.append(e)\n",
    "    while stack:\n",
    "        result += [stack.pop()]\n",
    "    return Permutation(result)\n",
    "\n",
    "def count_stack_sorts(x):\n",
    "    '''\n",
    "    Code from https://www.findstat.org/StatisticsDatabase/St000028/\n",
    "    '''\n",
    "    i = 0\n",
    "    id = Permutations(x.size()).identity()\n",
    "    while x != id:\n",
    "        x = stack_sort(x)\n",
    "        i += 1\n",
    "    return i\n",
    "\n",
    "num_stack_sorts = count_stack_sorts(x)\n",
    "print(num_stack_sorts)"
   ]
  },
  {
   "cell_type": "markdown",
   "id": "611c4e54-4ac7-4d1d-bd6e-d22ddef0aef0",
   "metadata": {},
   "source": [
    "### Further reading"
   ]
  },
  {
   "cell_type": "markdown",
   "id": "b407eea4-9a5c-442c-b1ee-ff8636e7dabd",
   "metadata": {},
   "source": [
    "For those interested in exploring more permutation statistics and representations, please see:\n",
    "- [SageMath Permutation Documentation](https://doc.sagemath.org/html/en/reference/combinat/sage/combinat/permutation.html): Comprehensive documentation of permtuation methods in SageMath \n",
    "- [FindStat combinatorial database](https://www.findstat.org/StatisticsDatabase/): A database with over 400 permutation statistics with code implementatison and references: "
   ]
  },
  {
   "cell_type": "markdown",
   "id": "c488049b-4aca-4501-9568-e83beabae941",
   "metadata": {},
   "source": [
    "# How to train a MLP to classify permutations by a specified statistic"
   ]
  },
  {
   "cell_type": "markdown",
   "id": "f0b41079-480b-48be-b45f-f7dbf4785d57",
   "metadata": {},
   "source": [
    "First, we select a permutation representation, a statistic to classify by, and a value of $N$."
   ]
  },
  {
   "cell_type": "code",
   "execution_count": 99,
   "id": "55e7f3db-30fc-485e-9cd6-4ebd78b6c3b2",
   "metadata": {},
   "outputs": [],
   "source": [
    "representation = 'inversion_vector'\n",
    "statistic = 'major_index'\n",
    "N = 7"
   ]
  },
  {
   "cell_type": "markdown",
   "id": "d9e70b1c-e4d7-48ff-966e-ef8ad5e782f1",
   "metadata": {},
   "source": [
    "Now, we generate a dataset of permutation samples from $S_{N}$."
   ]
  },
  {
   "cell_type": "markdown",
   "id": "a1040eb8-6d0a-4c48-8b8e-2ba5e5ece8f3",
   "metadata": {},
   "source": [
    "Define a function to convert the representations into one-hot-encoded and then flattened vectors."
   ]
  },
  {
   "cell_type": "code",
   "execution_count": 66,
   "id": "4ca51b7b-e79a-4d1a-b837-94c1c1c6e98e",
   "metadata": {},
   "outputs": [],
   "source": [
    "def one_hot_encode(sequences_torch):\n",
    "    \"\"\"\n",
    "    One-hot encodes the elements for a list of permutations.\n",
    "\n",
    "    Args:\n",
    "        sequences_torch (list): A list of torch vectors of permutations to encode.\n",
    "        \n",
    "    Returns:\n",
    "        list: a list of one-hot encoded representations of the permutations flattened in the input vector.\n",
    "    \"\"\"\n",
    "\n",
    "    # Get the maximum value of all of the entries\n",
    "    if sequences_torch[0].ndim == 1:\n",
    "        max_val = float('-inf')  # Initialize with negative infinity\n",
    "        for seq in sequences_torch:\n",
    "            for entry in seq:\n",
    "                if entry > max_val:\n",
    "                    max_val = entry\n",
    "\n",
    "    # Convert tensor to numpy for processing if needed\n",
    "    if not isinstance(sequences_torch, np.ndarray):\n",
    "        sequences_torch = sequences_torch.numpy()\n",
    "    else:\n",
    "        sequences_torch = sequences_torch\n",
    "        \n",
    "    permutations_one_hot_encoded = []\n",
    "    for permutation in sequences_torch:\n",
    "        if np.array(permutation).ndim == 1:\n",
    "            \n",
    "            unique_elements = np.unique(permutation)\n",
    "            encoding_matrix = np.eye(max_val+1)\n",
    "            element_to_index = {element: index for index, element in enumerate(np.array(range(max_val+1)))}\n",
    "            encoded_vector = np.array([encoding_matrix[element_to_index[element]] for element in permutation]).flatten()\n",
    "            \n",
    "        elif permutation.ndim == 2:\n",
    "            encoded_vector = permutation.flatten()\n",
    "            \n",
    "        permutations_one_hot_encoded.append(encoded_vector)\n",
    "        \n",
    "    return torch.tensor(np.array(permutations_one_hot_encoded))"
   ]
  },
  {
   "cell_type": "code",
   "execution_count": 82,
   "id": "2d6a3892-709e-43f0-9e4b-c1d22c9788d4",
   "metadata": {},
   "outputs": [],
   "source": [
    "S = Permutations(N)\n",
    "data_lst = [np.array(x.to_inversion_vector()) for x in S]\n",
    "labels_lst = [np.array(x.major_index()) for x in S]"
   ]
  },
  {
   "cell_type": "code",
   "execution_count": 84,
   "id": "b5acd289-09f3-482f-9790-bbb4b13b9358",
   "metadata": {},
   "outputs": [
    {
     "name": "stdout",
     "output_type": "stream",
     "text": [
      "DATASET # of classes is: 22\n"
     ]
    }
   ],
   "source": [
    "sequences_torch = torch.from_numpy(np.array(data_lst))\n",
    "labels_torch = torch.from_numpy(np.array(labels_lst)).type(torch.LongTensor)\n",
    "\n",
    "output_size = max(labels_torch)+1\n",
    "print(f\"DATASET # of classes is: {output_size}\")\n",
    "\n",
    "# Use one hot encoding for all permutation inputs\n",
    "sequences_torch = one_hot_encode(sequences_torch)\n",
    "input_size = sequences_torch[0].shape[0]"
   ]
  },
  {
   "cell_type": "markdown",
   "id": "4b68c96d-71c1-47e0-833c-e941c5e12761",
   "metadata": {},
   "source": [
    "Do a train test split and define tensor datasets using PyTorch."
   ]
  },
  {
   "cell_type": "code",
   "execution_count": 85,
   "id": "6f08b725-43d8-4acf-bfc9-4b782f26420c",
   "metadata": {},
   "outputs": [],
   "source": [
    "np.random.seed(42)\n",
    "torch.manual_seed(42)\n",
    "\n",
    "split = 0.7\n",
    "ds_size = int(len(sequences_torch))\n",
    "random_idx = list(range(len(sequences_torch)))\n",
    "np.random.shuffle(random_idx)\n",
    "\n",
    "sequences_torch_train = sequences_torch[random_idx][:math.ceil(ds_size*split)].float()\n",
    "labels_torch_train = labels_torch[random_idx][:math.ceil(ds_size*split)]\n",
    "\n",
    "sequences_torch_test = sequences_torch[random_idx][math.ceil(ds_size*split):].float()\n",
    "labels_torch_test = labels_torch[random_idx][math.ceil(ds_size*split):]\n",
    "\n",
    "trainset = torch.utils.data.TensorDataset(sequences_torch_train, labels_torch_train)\n",
    "testset = torch.utils.data.TensorDataset(sequences_torch_test, labels_torch_test)\n"
   ]
  },
  {
   "cell_type": "markdown",
   "id": "817d68b0-cd30-4b6b-bd0e-3d5ef70f2871",
   "metadata": {},
   "source": [
    "Specify model parameters:"
   ]
  },
  {
   "cell_type": "code",
   "execution_count": 86,
   "id": "44e81c1e-30ac-47bb-8c8d-455bcf18df3d",
   "metadata": {},
   "outputs": [],
   "source": [
    "device = 'cuda'\n",
    "BATCH_SIZE = 32\n",
    "LR = 0.001\n",
    "DROPOUT = 0.1\n",
    "WEIGHT_DECAY = 0.0001\n",
    "EPOCHS = 200"
   ]
  },
  {
   "cell_type": "markdown",
   "id": "1fed88c4-3e67-4c5d-909e-320675a645f7",
   "metadata": {},
   "source": [
    "Now we define the MLP model architecture."
   ]
  },
  {
   "cell_type": "code",
   "execution_count": 87,
   "id": "e1846e03-d786-4095-a5ba-c55ff57c53bd",
   "metadata": {},
   "outputs": [],
   "source": [
    "class FeedForward(nn.Module):\n",
    "    def __init__(self, \n",
    "                 dimensions,\n",
    "                 num_classes,\n",
    "                 dropout_rate = 0.0):\n",
    "        super().__init__()\n",
    "        self.linear_layers = nn.ModuleList([ nn.Linear(dimensions[i], dimensions[i+1]) for i in range(len(dimensions)-1) ]\n",
    "                                            )\n",
    "        self.classification = nn.Linear(dimensions[-1], num_classes)\n",
    "        self.relu = nn.ReLU()\n",
    "\n",
    "        self.drop1 = nn.Dropout(dropout_rate)\n",
    "        self.dropout_rate = dropout_rate\n",
    "    def forward(self, x):\n",
    "        for layer in self.linear_layers:\n",
    "            x = self.relu(layer(x) )\n",
    "            x = self.drop1(x)\n",
    "\n",
    "        x = self.classification(x)\n",
    "\n",
    "        return x"
   ]
  },
  {
   "cell_type": "markdown",
   "id": "8a1c5c96-7352-43cc-8160-f447a47d82dd",
   "metadata": {},
   "source": [
    "Define functions to train the MLP."
   ]
  },
  {
   "cell_type": "code",
   "execution_count": 88,
   "id": "bfb6898d-2be0-481c-842d-15b9e28d228f",
   "metadata": {},
   "outputs": [],
   "source": [
    "def evaluate_one_epoch(model, testloader, criterion, device):\n",
    "    total_loss = 0\n",
    "    total_correct = 0\n",
    "    total_samples = 0\n",
    "    all_preds = []\n",
    "    all_labels = []\n",
    "    \n",
    "    with torch.no_grad():\n",
    "        for sequences, labels in testloader:\n",
    "            sequences, labels = sequences.float().to(device), labels.to(device)\n",
    "            outputs = model(sequences)\n",
    "            _, predicted = outputs.max(1)\n",
    "            \n",
    "            loss = criterion(outputs, labels)\n",
    "           \n",
    "            total_correct += predicted.eq(labels).sum().item()\n",
    "            total_samples += labels.size(0)\n",
    "            total_loss += loss.item() * labels.size(0)\n",
    "\n",
    "            # Collecting predictions and labels\n",
    "            all_preds.extend(predicted.cpu().numpy())\n",
    "            all_labels.extend(labels.cpu().numpy())\n",
    "\n",
    "    accuracy = total_correct / total_samples\n",
    "    avg_loss = total_loss / total_samples\n",
    "\n",
    "    return avg_loss, accuracy"
   ]
  },
  {
   "cell_type": "code",
   "execution_count": 89,
   "id": "1ef2e3ce-04c8-449b-8ac7-bf791f5d1bf1",
   "metadata": {},
   "outputs": [],
   "source": [
    "def train(model, trainloader, testloader, criterion, optimizer, epochs=100, bs=32, when_to_print=10):\n",
    "    \n",
    "    all_train_loss, all_train_acc, all_test_loss, all_test_acc, all_test_f1 = [],[], [], [], []\n",
    "    best_test_acc = 0\n",
    "    best_epoch = 0\n",
    "    best_weights = None\n",
    "    \n",
    "    for ep in range(epochs):\n",
    "        model.train()\n",
    "        train_loss, train_correct, train_total = 0, 0, 0\n",
    "\n",
    "        for sequences, labels in tqdm(trainloader, desc=f\"Epoch {ep+1}/{epochs}\"):\n",
    "            sequences, labels = sequences.float().to(device), labels.to(device)\n",
    "            optimizer.zero_grad()\n",
    "            output = model(sequences)\n",
    "            loss = criterion(output, labels)\n",
    "            \n",
    "            # backprop and optimize\n",
    "            loss.backward()\n",
    "            optimizer.step()\n",
    "\n",
    "            _, predicted = output.max(1)\n",
    "            train_correct += predicted.eq(labels).sum().item()\n",
    "            train_total += labels.size(0)\n",
    "            train_loss += loss.item() * labels.size(0)\n",
    "\n",
    "        train_acc = train_correct / train_total\n",
    "        avg_train_loss = train_loss / train_total\n",
    "        all_train_acc.append(train_acc)\n",
    "        all_train_loss.append(avg_train_loss)\n",
    "\n",
    "        if ep % when_to_print == 0:\n",
    "            print(f\"Epoch {ep}: Train Acc: {train_acc:.2%}, Train Loss: {avg_train_loss:.4f}\")\n",
    "\n",
    "        model.eval()\n",
    "        avg_test_loss, test_acc = evaluate_one_epoch(model, testloader, criterion, device)\n",
    "\n",
    "        all_test_acc.append(test_acc)\n",
    "        all_test_loss.append(avg_test_loss)\n",
    "\n",
    "        if ep % when_to_print == 0:\n",
    "            print(f\"Test Acc: {test_acc:.2%}, Test Loss: {avg_test_loss:.4f}\")\n",
    "                \n",
    "    return all_train_loss, all_train_acc, all_test_loss, all_test_acc"
   ]
  },
  {
   "cell_type": "markdown",
   "id": "ca5d114e-80d8-4133-ba36-818a55fc47a2",
   "metadata": {},
   "source": [
    "Now train the model."
   ]
  },
  {
   "cell_type": "code",
   "execution_count": 90,
   "id": "bee7fb69-5c14-4307-b23d-848d95b4a015",
   "metadata": {
    "scrolled": true
   },
   "outputs": [
    {
     "name": "stdout",
     "output_type": "stream",
     "text": [
      "Training the MLP for inversion_vector, major_index...\n"
     ]
    },
    {
     "name": "stderr",
     "output_type": "stream",
     "text": [
      "Epoch 1/200: 100%|██████████| 111/111 [00:00<00:00, 471.95it/s]\n"
     ]
    },
    {
     "name": "stdout",
     "output_type": "stream",
     "text": [
      "Epoch 0: Train Acc: 9.78%, Train Loss: 2.7268\n",
      "Test Acc: 13.43%, Test Loss: 2.5439\n"
     ]
    },
    {
     "name": "stderr",
     "output_type": "stream",
     "text": [
      "Epoch 2/200: 100%|██████████| 111/111 [00:00<00:00, 474.98it/s]\n",
      "Epoch 3/200: 100%|██████████| 111/111 [00:00<00:00, 480.43it/s]\n",
      "Epoch 4/200: 100%|██████████| 111/111 [00:00<00:00, 480.34it/s]\n",
      "Epoch 5/200: 100%|██████████| 111/111 [00:00<00:00, 481.04it/s]\n",
      "Epoch 6/200: 100%|██████████| 111/111 [00:00<00:00, 481.11it/s]\n",
      "Epoch 7/200: 100%|██████████| 111/111 [00:00<00:00, 479.67it/s]\n",
      "Epoch 8/200: 100%|██████████| 111/111 [00:00<00:00, 479.63it/s]\n",
      "Epoch 9/200: 100%|██████████| 111/111 [00:00<00:00, 480.46it/s]\n",
      "Epoch 10/200: 100%|██████████| 111/111 [00:00<00:00, 475.36it/s]\n",
      "Epoch 11/200: 100%|██████████| 111/111 [00:00<00:00, 479.78it/s]\n"
     ]
    },
    {
     "name": "stdout",
     "output_type": "stream",
     "text": [
      "Epoch 10: Train Acc: 40.02%, Train Loss: 1.5018\n",
      "Test Acc: 38.76%, Test Loss: 1.4371\n"
     ]
    },
    {
     "name": "stderr",
     "output_type": "stream",
     "text": [
      "Epoch 12/200: 100%|██████████| 111/111 [00:00<00:00, 479.46it/s]\n",
      "Epoch 13/200: 100%|██████████| 111/111 [00:00<00:00, 478.96it/s]\n",
      "Epoch 14/200: 100%|██████████| 111/111 [00:00<00:00, 479.56it/s]\n",
      "Epoch 15/200: 100%|██████████| 111/111 [00:00<00:00, 440.84it/s]\n",
      "Epoch 16/200: 100%|██████████| 111/111 [00:00<00:00, 479.89it/s]\n",
      "Epoch 17/200: 100%|██████████| 111/111 [00:00<00:00, 479.64it/s]\n",
      "Epoch 18/200: 100%|██████████| 111/111 [00:00<00:00, 475.31it/s]\n",
      "Epoch 19/200: 100%|██████████| 111/111 [00:00<00:00, 479.89it/s]\n",
      "Epoch 20/200: 100%|██████████| 111/111 [00:00<00:00, 480.10it/s]\n",
      "Epoch 21/200: 100%|██████████| 111/111 [00:00<00:00, 480.14it/s]\n"
     ]
    },
    {
     "name": "stdout",
     "output_type": "stream",
     "text": [
      "Epoch 20: Train Acc: 64.91%, Train Loss: 0.9382\n",
      "Test Acc: 70.70%, Test Loss: 0.8534\n"
     ]
    },
    {
     "name": "stderr",
     "output_type": "stream",
     "text": [
      "Epoch 22/200: 100%|██████████| 111/111 [00:00<00:00, 479.37it/s]\n",
      "Epoch 23/200: 100%|██████████| 111/111 [00:00<00:00, 479.86it/s]\n",
      "Epoch 24/200: 100%|██████████| 111/111 [00:00<00:00, 478.87it/s]\n",
      "Epoch 25/200: 100%|██████████| 111/111 [00:00<00:00, 474.04it/s]\n",
      "Epoch 26/200: 100%|██████████| 111/111 [00:00<00:00, 475.73it/s]\n",
      "Epoch 27/200: 100%|██████████| 111/111 [00:00<00:00, 480.41it/s]\n",
      "Epoch 28/200: 100%|██████████| 111/111 [00:00<00:00, 480.32it/s]\n",
      "Epoch 29/200: 100%|██████████| 111/111 [00:00<00:00, 479.47it/s]\n",
      "Epoch 30/200: 100%|██████████| 111/111 [00:00<00:00, 479.33it/s]\n",
      "Epoch 31/200: 100%|██████████| 111/111 [00:00<00:00, 479.71it/s]\n"
     ]
    },
    {
     "name": "stdout",
     "output_type": "stream",
     "text": [
      "Epoch 30: Train Acc: 78.83%, Train Loss: 0.5929\n",
      "Test Acc: 84.99%, Test Loss: 0.4878\n"
     ]
    },
    {
     "name": "stderr",
     "output_type": "stream",
     "text": [
      "Epoch 32/200: 100%|██████████| 111/111 [00:00<00:00, 479.49it/s]\n",
      "Epoch 33/200: 100%|██████████| 111/111 [00:00<00:00, 476.35it/s]\n",
      "Epoch 34/200: 100%|██████████| 111/111 [00:00<00:00, 475.16it/s]\n",
      "Epoch 35/200: 100%|██████████| 111/111 [00:00<00:00, 479.01it/s]\n",
      "Epoch 36/200: 100%|██████████| 111/111 [00:00<00:00, 478.19it/s]\n",
      "Epoch 37/200: 100%|██████████| 111/111 [00:00<00:00, 479.46it/s]\n",
      "Epoch 38/200: 100%|██████████| 111/111 [00:00<00:00, 479.73it/s]\n",
      "Epoch 39/200: 100%|██████████| 111/111 [00:00<00:00, 479.54it/s]\n",
      "Epoch 40/200: 100%|██████████| 111/111 [00:00<00:00, 478.53it/s]\n",
      "Epoch 41/200: 100%|██████████| 111/111 [00:00<00:00, 479.43it/s]\n"
     ]
    },
    {
     "name": "stdout",
     "output_type": "stream",
     "text": [
      "Epoch 40: Train Acc: 85.40%, Train Loss: 0.3956\n",
      "Test Acc: 92.13%, Test Loss: 0.2723\n"
     ]
    },
    {
     "name": "stderr",
     "output_type": "stream",
     "text": [
      "Epoch 42/200: 100%|██████████| 111/111 [00:00<00:00, 475.02it/s]\n",
      "Epoch 43/200: 100%|██████████| 111/111 [00:00<00:00, 479.76it/s]\n",
      "Epoch 44/200: 100%|██████████| 111/111 [00:00<00:00, 479.56it/s]\n",
      "Epoch 45/200: 100%|██████████| 111/111 [00:00<00:00, 479.42it/s]\n",
      "Epoch 46/200: 100%|██████████| 111/111 [00:00<00:00, 479.65it/s]\n",
      "Epoch 47/200: 100%|██████████| 111/111 [00:00<00:00, 479.02it/s]\n",
      "Epoch 48/200: 100%|██████████| 111/111 [00:00<00:00, 479.70it/s]\n",
      "Epoch 49/200: 100%|██████████| 111/111 [00:00<00:00, 479.94it/s]\n",
      "Epoch 50/200: 100%|██████████| 111/111 [00:00<00:00, 474.51it/s]\n",
      "Epoch 51/200: 100%|██████████| 111/111 [00:00<00:00, 479.14it/s]\n"
     ]
    },
    {
     "name": "stdout",
     "output_type": "stream",
     "text": [
      "Epoch 50: Train Acc: 90.59%, Train Loss: 0.2746\n",
      "Test Acc: 95.90%, Test Loss: 0.1699\n"
     ]
    },
    {
     "name": "stderr",
     "output_type": "stream",
     "text": [
      "Epoch 52/200: 100%|██████████| 111/111 [00:00<00:00, 479.09it/s]\n",
      "Epoch 53/200: 100%|██████████| 111/111 [00:00<00:00, 440.86it/s]\n",
      "Epoch 54/200: 100%|██████████| 111/111 [00:00<00:00, 478.98it/s]\n",
      "Epoch 55/200: 100%|██████████| 111/111 [00:00<00:00, 479.40it/s]\n",
      "Epoch 56/200: 100%|██████████| 111/111 [00:00<00:00, 478.66it/s]\n",
      "Epoch 57/200: 100%|██████████| 111/111 [00:00<00:00, 479.22it/s]\n",
      "Epoch 58/200: 100%|██████████| 111/111 [00:00<00:00, 474.39it/s]\n",
      "Epoch 59/200: 100%|██████████| 111/111 [00:00<00:00, 479.12it/s]\n",
      "Epoch 60/200: 100%|██████████| 111/111 [00:00<00:00, 478.98it/s]\n",
      "Epoch 61/200: 100%|██████████| 111/111 [00:00<00:00, 479.05it/s]\n"
     ]
    },
    {
     "name": "stdout",
     "output_type": "stream",
     "text": [
      "Epoch 60: Train Acc: 93.06%, Train Loss: 0.2121\n",
      "Test Acc: 97.09%, Test Loss: 0.1033\n"
     ]
    },
    {
     "name": "stderr",
     "output_type": "stream",
     "text": [
      "Epoch 62/200: 100%|██████████| 111/111 [00:00<00:00, 473.07it/s]\n",
      "Epoch 63/200: 100%|██████████| 111/111 [00:00<00:00, 479.22it/s]\n",
      "Epoch 64/200: 100%|██████████| 111/111 [00:00<00:00, 479.05it/s]\n",
      "Epoch 65/200: 100%|██████████| 111/111 [00:00<00:00, 478.76it/s]\n",
      "Epoch 66/200: 100%|██████████| 111/111 [00:00<00:00, 478.64it/s]\n",
      "Epoch 67/200: 100%|██████████| 111/111 [00:00<00:00, 473.83it/s]\n",
      "Epoch 68/200: 100%|██████████| 111/111 [00:00<00:00, 478.50it/s]\n",
      "Epoch 69/200: 100%|██████████| 111/111 [00:00<00:00, 479.02it/s]\n",
      "Epoch 70/200: 100%|██████████| 111/111 [00:00<00:00, 478.47it/s]\n",
      "Epoch 71/200: 100%|██████████| 111/111 [00:00<00:00, 478.94it/s]\n"
     ]
    },
    {
     "name": "stdout",
     "output_type": "stream",
     "text": [
      "Epoch 70: Train Acc: 94.67%, Train Loss: 0.1761\n",
      "Test Acc: 97.62%, Test Loss: 0.0829\n"
     ]
    },
    {
     "name": "stderr",
     "output_type": "stream",
     "text": [
      "Epoch 72/200: 100%|██████████| 111/111 [00:00<00:00, 478.92it/s]\n",
      "Epoch 73/200: 100%|██████████| 111/111 [00:00<00:00, 477.87it/s]\n",
      "Epoch 74/200: 100%|██████████| 111/111 [00:00<00:00, 475.65it/s]\n",
      "Epoch 75/200: 100%|██████████| 111/111 [00:00<00:00, 474.81it/s]\n",
      "Epoch 76/200: 100%|██████████| 111/111 [00:00<00:00, 478.54it/s]\n",
      "Epoch 77/200: 100%|██████████| 111/111 [00:00<00:00, 478.43it/s]\n",
      "Epoch 78/200: 100%|██████████| 111/111 [00:00<00:00, 478.75it/s]\n",
      "Epoch 79/200: 100%|██████████| 111/111 [00:00<00:00, 477.66it/s]\n",
      "Epoch 80/200: 100%|██████████| 111/111 [00:00<00:00, 478.37it/s]\n",
      "Epoch 81/200: 100%|██████████| 111/111 [00:00<00:00, 479.05it/s]\n"
     ]
    },
    {
     "name": "stdout",
     "output_type": "stream",
     "text": [
      "Epoch 80: Train Acc: 95.46%, Train Loss: 0.1339\n",
      "Test Acc: 99.07%, Test Loss: 0.0482\n"
     ]
    },
    {
     "name": "stderr",
     "output_type": "stream",
     "text": [
      "Epoch 82/200: 100%|██████████| 111/111 [00:00<00:00, 478.77it/s]\n",
      "Epoch 83/200: 100%|██████████| 111/111 [00:00<00:00, 474.09it/s]\n",
      "Epoch 84/200: 100%|██████████| 111/111 [00:00<00:00, 479.13it/s]\n",
      "Epoch 85/200: 100%|██████████| 111/111 [00:00<00:00, 438.92it/s]\n",
      "Epoch 86/200: 100%|██████████| 111/111 [00:00<00:00, 478.63it/s]\n",
      "Epoch 87/200: 100%|██████████| 111/111 [00:00<00:00, 478.88it/s]\n",
      "Epoch 88/200: 100%|██████████| 111/111 [00:00<00:00, 479.15it/s]\n",
      "Epoch 89/200: 100%|██████████| 111/111 [00:00<00:00, 443.09it/s]\n",
      "Epoch 90/200: 100%|██████████| 111/111 [00:00<00:00, 478.69it/s]\n",
      "Epoch 91/200: 100%|██████████| 111/111 [00:00<00:00, 474.46it/s]\n"
     ]
    },
    {
     "name": "stdout",
     "output_type": "stream",
     "text": [
      "Epoch 90: Train Acc: 96.23%, Train Loss: 0.1195\n",
      "Test Acc: 98.94%, Test Loss: 0.0429\n"
     ]
    },
    {
     "name": "stderr",
     "output_type": "stream",
     "text": [
      "Epoch 92/200: 100%|██████████| 111/111 [00:00<00:00, 478.72it/s]\n",
      "Epoch 93/200: 100%|██████████| 111/111 [00:00<00:00, 478.91it/s]\n",
      "Epoch 94/200: 100%|██████████| 111/111 [00:00<00:00, 479.09it/s]\n",
      "Epoch 95/200: 100%|██████████| 111/111 [00:00<00:00, 478.64it/s]\n",
      "Epoch 96/200: 100%|██████████| 111/111 [00:00<00:00, 479.26it/s]\n",
      "Epoch 97/200: 100%|██████████| 111/111 [00:00<00:00, 478.53it/s]\n",
      "Epoch 98/200: 100%|██████████| 111/111 [00:00<00:00, 478.08it/s]\n",
      "Epoch 99/200: 100%|██████████| 111/111 [00:00<00:00, 468.40it/s]\n",
      "Epoch 100/200: 100%|██████████| 111/111 [00:00<00:00, 477.95it/s]\n",
      "Epoch 101/200: 100%|██████████| 111/111 [00:00<00:00, 478.26it/s]\n"
     ]
    },
    {
     "name": "stdout",
     "output_type": "stream",
     "text": [
      "Epoch 100: Train Acc: 96.60%, Train Loss: 0.1102\n",
      "Test Acc: 98.94%, Test Loss: 0.0338\n"
     ]
    },
    {
     "name": "stderr",
     "output_type": "stream",
     "text": [
      "Epoch 102/200: 100%|██████████| 111/111 [00:00<00:00, 478.70it/s]\n",
      "Epoch 103/200: 100%|██████████| 111/111 [00:00<00:00, 479.16it/s]\n",
      "Epoch 104/200: 100%|██████████| 111/111 [00:00<00:00, 478.84it/s]\n",
      "Epoch 105/200: 100%|██████████| 111/111 [00:00<00:00, 478.52it/s]\n",
      "Epoch 106/200: 100%|██████████| 111/111 [00:00<00:00, 479.05it/s]\n",
      "Epoch 107/200: 100%|██████████| 111/111 [00:00<00:00, 471.26it/s]\n",
      "Epoch 108/200: 100%|██████████| 111/111 [00:00<00:00, 478.68it/s]\n",
      "Epoch 109/200: 100%|██████████| 111/111 [00:00<00:00, 478.41it/s]\n",
      "Epoch 110/200: 100%|██████████| 111/111 [00:00<00:00, 478.67it/s]\n",
      "Epoch 111/200: 100%|██████████| 111/111 [00:00<00:00, 478.89it/s]\n"
     ]
    },
    {
     "name": "stdout",
     "output_type": "stream",
     "text": [
      "Epoch 110: Train Acc: 97.08%, Train Loss: 0.0950\n",
      "Test Acc: 99.47%, Test Loss: 0.0336\n"
     ]
    },
    {
     "name": "stderr",
     "output_type": "stream",
     "text": [
      "Epoch 112/200: 100%|██████████| 111/111 [00:00<00:00, 478.80it/s]\n",
      "Epoch 113/200: 100%|██████████| 111/111 [00:00<00:00, 477.85it/s]\n",
      "Epoch 114/200: 100%|██████████| 111/111 [00:00<00:00, 478.55it/s]\n",
      "Epoch 115/200: 100%|██████████| 111/111 [00:00<00:00, 473.89it/s]\n",
      "Epoch 116/200: 100%|██████████| 111/111 [00:00<00:00, 478.36it/s]\n",
      "Epoch 117/200: 100%|██████████| 111/111 [00:00<00:00, 478.54it/s]\n",
      "Epoch 118/200: 100%|██████████| 111/111 [00:00<00:00, 478.83it/s]\n",
      "Epoch 119/200: 100%|██████████| 111/111 [00:00<00:00, 478.53it/s]\n",
      "Epoch 120/200: 100%|██████████| 111/111 [00:00<00:00, 478.53it/s]\n",
      "Epoch 121/200: 100%|██████████| 111/111 [00:00<00:00, 478.18it/s]\n"
     ]
    },
    {
     "name": "stdout",
     "output_type": "stream",
     "text": [
      "Epoch 120: Train Acc: 97.82%, Train Loss: 0.0751\n",
      "Test Acc: 99.47%, Test Loss: 0.0266\n"
     ]
    },
    {
     "name": "stderr",
     "output_type": "stream",
     "text": [
      "Epoch 122/200: 100%|██████████| 111/111 [00:00<00:00, 478.65it/s]\n",
      "Epoch 123/200: 100%|██████████| 111/111 [00:00<00:00, 473.67it/s]\n",
      "Epoch 124/200: 100%|██████████| 111/111 [00:00<00:00, 478.30it/s]\n",
      "Epoch 125/200: 100%|██████████| 111/111 [00:00<00:00, 478.85it/s]\n",
      "Epoch 126/200: 100%|██████████| 111/111 [00:00<00:00, 439.51it/s]\n",
      "Epoch 127/200: 100%|██████████| 111/111 [00:00<00:00, 477.73it/s]\n",
      "Epoch 128/200: 100%|██████████| 111/111 [00:00<00:00, 478.51it/s]\n",
      "Epoch 129/200: 100%|██████████| 111/111 [00:00<00:00, 478.17it/s]\n",
      "Epoch 130/200: 100%|██████████| 111/111 [00:00<00:00, 478.13it/s]\n",
      "Epoch 131/200: 100%|██████████| 111/111 [00:00<00:00, 473.68it/s]\n"
     ]
    },
    {
     "name": "stdout",
     "output_type": "stream",
     "text": [
      "Epoch 130: Train Acc: 97.73%, Train Loss: 0.0755\n",
      "Test Acc: 99.21%, Test Loss: 0.0269\n"
     ]
    },
    {
     "name": "stderr",
     "output_type": "stream",
     "text": [
      "Epoch 132/200: 100%|██████████| 111/111 [00:00<00:00, 477.31it/s]\n",
      "Epoch 133/200: 100%|██████████| 111/111 [00:00<00:00, 477.12it/s]\n",
      "Epoch 134/200: 100%|██████████| 111/111 [00:00<00:00, 477.90it/s]\n",
      "Epoch 135/200: 100%|██████████| 111/111 [00:00<00:00, 478.44it/s]\n",
      "Epoch 136/200: 100%|██████████| 111/111 [00:00<00:00, 474.69it/s]\n",
      "Epoch 137/200: 100%|██████████| 111/111 [00:00<00:00, 477.55it/s]\n",
      "Epoch 138/200: 100%|██████████| 111/111 [00:00<00:00, 477.85it/s]\n",
      "Epoch 139/200: 100%|██████████| 111/111 [00:00<00:00, 473.74it/s]\n",
      "Epoch 140/200: 100%|██████████| 111/111 [00:00<00:00, 478.30it/s]\n",
      "Epoch 141/200: 100%|██████████| 111/111 [00:00<00:00, 477.97it/s]\n"
     ]
    },
    {
     "name": "stdout",
     "output_type": "stream",
     "text": [
      "Epoch 140: Train Acc: 97.17%, Train Loss: 0.0797\n",
      "Test Acc: 99.47%, Test Loss: 0.0223\n"
     ]
    },
    {
     "name": "stderr",
     "output_type": "stream",
     "text": [
      "Epoch 142/200: 100%|██████████| 111/111 [00:00<00:00, 477.45it/s]\n",
      "Epoch 143/200: 100%|██████████| 111/111 [00:00<00:00, 477.76it/s]\n",
      "Epoch 144/200: 100%|██████████| 111/111 [00:00<00:00, 473.71it/s]\n",
      "Epoch 145/200: 100%|██████████| 111/111 [00:00<00:00, 477.44it/s]\n",
      "Epoch 146/200: 100%|██████████| 111/111 [00:00<00:00, 476.21it/s]\n",
      "Epoch 147/200: 100%|██████████| 111/111 [00:00<00:00, 473.80it/s]\n",
      "Epoch 148/200: 100%|██████████| 111/111 [00:00<00:00, 478.10it/s]\n",
      "Epoch 149/200: 100%|██████████| 111/111 [00:00<00:00, 477.66it/s]\n",
      "Epoch 150/200: 100%|██████████| 111/111 [00:00<00:00, 477.85it/s]\n",
      "Epoch 151/200: 100%|██████████| 111/111 [00:00<00:00, 478.64it/s]\n"
     ]
    },
    {
     "name": "stdout",
     "output_type": "stream",
     "text": [
      "Epoch 150: Train Acc: 98.24%, Train Loss: 0.0647\n",
      "Test Acc: 99.54%, Test Loss: 0.0190\n"
     ]
    },
    {
     "name": "stderr",
     "output_type": "stream",
     "text": [
      "Epoch 152/200: 100%|██████████| 111/111 [00:00<00:00, 478.13it/s]\n",
      "Epoch 153/200: 100%|██████████| 111/111 [00:00<00:00, 478.11it/s]\n",
      "Epoch 154/200: 100%|██████████| 111/111 [00:00<00:00, 477.59it/s]\n",
      "Epoch 155/200: 100%|██████████| 111/111 [00:00<00:00, 473.52it/s]\n",
      "Epoch 156/200: 100%|██████████| 111/111 [00:00<00:00, 478.20it/s]\n",
      "Epoch 157/200: 100%|██████████| 111/111 [00:00<00:00, 478.13it/s]\n",
      "Epoch 158/200: 100%|██████████| 111/111 [00:00<00:00, 478.09it/s]\n",
      "Epoch 159/200: 100%|██████████| 111/111 [00:00<00:00, 477.53it/s]\n",
      "Epoch 160/200: 100%|██████████| 111/111 [00:00<00:00, 477.90it/s]\n",
      "Epoch 161/200: 100%|██████████| 111/111 [00:00<00:00, 477.90it/s]\n"
     ]
    },
    {
     "name": "stdout",
     "output_type": "stream",
     "text": [
      "Epoch 160: Train Acc: 98.27%, Train Loss: 0.0626\n",
      "Test Acc: 99.80%, Test Loss: 0.0118\n"
     ]
    },
    {
     "name": "stderr",
     "output_type": "stream",
     "text": [
      "Epoch 162/200: 100%|██████████| 111/111 [00:00<00:00, 478.17it/s]\n",
      "Epoch 163/200: 100%|██████████| 111/111 [00:00<00:00, 435.33it/s]\n",
      "Epoch 164/200: 100%|██████████| 111/111 [00:00<00:00, 477.50it/s]\n",
      "Epoch 165/200: 100%|██████████| 111/111 [00:00<00:00, 477.30it/s]\n",
      "Epoch 166/200: 100%|██████████| 111/111 [00:00<00:00, 477.75it/s]\n",
      "Epoch 167/200: 100%|██████████| 111/111 [00:00<00:00, 478.20it/s]\n",
      "Epoch 168/200: 100%|██████████| 111/111 [00:00<00:00, 478.03it/s]\n",
      "Epoch 169/200: 100%|██████████| 111/111 [00:00<00:00, 478.19it/s]\n",
      "Epoch 170/200: 100%|██████████| 111/111 [00:00<00:00, 478.48it/s]\n",
      "Epoch 171/200: 100%|██████████| 111/111 [00:00<00:00, 473.15it/s]\n"
     ]
    },
    {
     "name": "stdout",
     "output_type": "stream",
     "text": [
      "Epoch 170: Train Acc: 98.55%, Train Loss: 0.0491\n",
      "Test Acc: 99.87%, Test Loss: 0.0107\n"
     ]
    },
    {
     "name": "stderr",
     "output_type": "stream",
     "text": [
      "Epoch 172/200: 100%|██████████| 111/111 [00:00<00:00, 477.83it/s]\n",
      "Epoch 173/200: 100%|██████████| 111/111 [00:00<00:00, 471.80it/s]\n",
      "Epoch 174/200: 100%|██████████| 111/111 [00:00<00:00, 477.72it/s]\n",
      "Epoch 175/200: 100%|██████████| 111/111 [00:00<00:00, 478.07it/s]\n",
      "Epoch 176/200: 100%|██████████| 111/111 [00:00<00:00, 476.75it/s]\n",
      "Epoch 177/200: 100%|██████████| 111/111 [00:00<00:00, 477.48it/s]\n",
      "Epoch 178/200: 100%|██████████| 111/111 [00:00<00:00, 477.49it/s]\n",
      "Epoch 179/200: 100%|██████████| 111/111 [00:00<00:00, 473.45it/s]\n",
      "Epoch 180/200: 100%|██████████| 111/111 [00:00<00:00, 478.21it/s]\n",
      "Epoch 181/200: 100%|██████████| 111/111 [00:00<00:00, 474.73it/s]\n"
     ]
    },
    {
     "name": "stdout",
     "output_type": "stream",
     "text": [
      "Epoch 180: Train Acc: 97.93%, Train Loss: 0.0650\n",
      "Test Acc: 99.93%, Test Loss: 0.0099\n"
     ]
    },
    {
     "name": "stderr",
     "output_type": "stream",
     "text": [
      "Epoch 182/200: 100%|██████████| 111/111 [00:00<00:00, 478.02it/s]\n",
      "Epoch 183/200: 100%|██████████| 111/111 [00:00<00:00, 477.95it/s]\n",
      "Epoch 184/200: 100%|██████████| 111/111 [00:00<00:00, 478.59it/s]\n",
      "Epoch 185/200: 100%|██████████| 111/111 [00:00<00:00, 477.31it/s]\n",
      "Epoch 186/200: 100%|██████████| 111/111 [00:00<00:00, 477.80it/s]\n",
      "Epoch 187/200: 100%|██████████| 111/111 [00:00<00:00, 473.38it/s]\n",
      "Epoch 188/200: 100%|██████████| 111/111 [00:00<00:00, 477.86it/s]\n",
      "Epoch 189/200: 100%|██████████| 111/111 [00:00<00:00, 477.81it/s]\n",
      "Epoch 190/200: 100%|██████████| 111/111 [00:00<00:00, 478.14it/s]\n",
      "Epoch 191/200: 100%|██████████| 111/111 [00:00<00:00, 478.31it/s]\n"
     ]
    },
    {
     "name": "stdout",
     "output_type": "stream",
     "text": [
      "Epoch 190: Train Acc: 98.75%, Train Loss: 0.0377\n",
      "Test Acc: 99.80%, Test Loss: 0.0134\n"
     ]
    },
    {
     "name": "stderr",
     "output_type": "stream",
     "text": [
      "Epoch 192/200: 100%|██████████| 111/111 [00:00<00:00, 477.87it/s]\n",
      "Epoch 193/200: 100%|██████████| 111/111 [00:00<00:00, 477.72it/s]\n",
      "Epoch 194/200: 100%|██████████| 111/111 [00:00<00:00, 477.62it/s]\n",
      "Epoch 195/200: 100%|██████████| 111/111 [00:00<00:00, 473.68it/s]\n",
      "Epoch 196/200: 100%|██████████| 111/111 [00:00<00:00, 478.19it/s]\n",
      "Epoch 197/200: 100%|██████████| 111/111 [00:00<00:00, 477.39it/s]\n",
      "Epoch 198/200: 100%|██████████| 111/111 [00:00<00:00, 478.18it/s]\n",
      "Epoch 199/200: 100%|██████████| 111/111 [00:00<00:00, 477.49it/s]\n",
      "Epoch 200/200: 100%|██████████| 111/111 [00:00<00:00, 477.55it/s]\n"
     ]
    }
   ],
   "source": [
    "print(f'Training the MLP for {representation}, {statistic}...')\n",
    "best_accuracy = 0\n",
    "\n",
    "# Create and train the model with the specified hyperparameters\n",
    "model = FeedForward(dimensions=[input_size, 128, 128, 64], num_classes=output_size, dropout_rate=DROPOUT)\n",
    "model.to(device)\n",
    "criterion = nn.CrossEntropyLoss()\n",
    "optimizer = torch.optim.Adam(model.parameters(), lr=LR, weight_decay=WEIGHT_DECAY)\n",
    "\n",
    "trainloader = DataLoader(trainset, batch_size=BATCH_SIZE, shuffle=True)\n",
    "testloader = DataLoader(testset, batch_size=BATCH_SIZE, shuffle=False)\n",
    "\n",
    "# Train the model\n",
    "all_train_loss, all_train_acc, all_test_loss, all_test_acc = train( model, trainloader, testloader, criterion, \n",
    "                                                                   optimizer, epochs=EPOCHS, bs=BATCH_SIZE, when_to_print=10)\n"
   ]
  },
  {
   "cell_type": "markdown",
   "id": "404c49be-dd8d-4418-8a33-357ab5dabe14",
   "metadata": {},
   "source": [
    "Plot the results by loss and accuracy."
   ]
  },
  {
   "cell_type": "code",
   "execution_count": 91,
   "id": "b253bd8d-ebf3-4771-8bd7-59c362df5163",
   "metadata": {},
   "outputs": [
    {
     "data": {
      "image/png": "[encoded data removed]",
      "text/plain": [
       "<Figure size 800x550 with 1 Axes>"
      ]
     },
     "metadata": {},
     "output_type": "display_data"
    }
   ],
   "source": [
    "plt.style.use(\"seaborn-v0_8\")\n",
    "plt.title(f'Loss curve for representation:{representation},\\n statistic:{statistic},\\n N = {N}')\n",
    "plt.xlabel('EPOCH')\n",
    "plt.ylabel('Loss')\n",
    "plt.plot(all_train_loss, label = 'train data')\n",
    "plt.plot(all_test_loss, label= 'test data')\n",
    "plt.legend()\n",
    "plt.show()"
   ]
  },
  {
   "cell_type": "code",
   "execution_count": 92,
   "id": "74b1167b-e111-4bc2-9bd5-d1c86302717f",
   "metadata": {},
   "outputs": [
    {
     "data": {
      "image/png": "[encoded data removed]",
      "text/plain": [
       "<Figure size 800x550 with 1 Axes>"
      ]
     },
     "metadata": {},
     "output_type": "display_data"
    }
   ],
   "source": [
    "plt.title(f'Model accuracy for representation:{representation},\\n statistic:{statistic},\\n N = {N}')\n",
    "plt.xlabel('EPOCH')\n",
    "plt.ylabel('Accuracy')\n",
    "plt.plot(all_train_acc, label = 'train data')\n",
    "plt.plot(all_test_acc, label= 'test data')\n",
    "plt.legend()\n",
    "plt.show()"
   ]
  },
  {
   "cell_type": "markdown",
   "id": "393cbd15-1a8a-434b-bb75-9491ac7bb2fc",
   "metadata": {},
   "source": [
    "### Now train a model using a different input representation\n",
    "We use a permutation dataset of the same permutations (from $S_N$) to classify by major code.\n"
   ]
  },
  {
   "cell_type": "code",
   "execution_count": 100,
   "id": "2dcb2436-800c-40ee-aff0-82f2788a7a58",
   "metadata": {},
   "outputs": [],
   "source": [
    "representation = 'reduced_word_lexmin'"
   ]
  },
  {
   "cell_type": "code",
   "execution_count": 101,
   "id": "a2e26279-64b5-42c3-9de6-48d07dbe9427",
   "metadata": {},
   "outputs": [],
   "source": [
    "S = Permutations(N)\n",
    "data_lst = [np.array(compute_reduced_word_lexmin(x)) for x in S]\n",
    "labels_lst = [np.array(x.major_index()) for x in S]"
   ]
  },
  {
   "cell_type": "code",
   "execution_count": 104,
   "id": "84e8c114-1072-43f2-a63e-3beb17b26799",
   "metadata": {},
   "outputs": [
    {
     "name": "stdout",
     "output_type": "stream",
     "text": [
      "DATASET # of classes is: 22\n"
     ]
    }
   ],
   "source": [
    "sequences_torch = torch.from_numpy(np.array(data_lst))\n",
    "labels_torch = torch.from_numpy(np.array(labels_lst)).type(torch.LongTensor)\n",
    "\n",
    "output_size = max(labels_torch)+1\n",
    "print(f\"DATASET # of classes is: {output_size}\")\n",
    "\n",
    "# Use one hot encoding for all permutation inputs\n",
    "sequences_torch = one_hot_encode(sequences_torch)\n",
    "input_size = sequences_torch[0].shape[0]"
   ]
  },
  {
   "cell_type": "code",
   "execution_count": 105,
   "id": "51874dac-64ed-4814-b1fe-a50bbc87c70b",
   "metadata": {},
   "outputs": [],
   "source": [
    "np.random.seed(42)\n",
    "torch.manual_seed(42)\n",
    "\n",
    "split = 0.7\n",
    "ds_size = int(len(sequences_torch))\n",
    "random_idx = list(range(len(sequences_torch)))\n",
    "np.random.shuffle(random_idx)\n",
    "\n",
    "sequences_torch_train = sequences_torch[random_idx][:math.ceil(ds_size*split)].float()\n",
    "labels_torch_train = labels_torch[random_idx][:math.ceil(ds_size*split)]\n",
    "\n",
    "sequences_torch_test = sequences_torch[random_idx][math.ceil(ds_size*split):].float()\n",
    "labels_torch_test = labels_torch[random_idx][math.ceil(ds_size*split):]\n",
    "\n",
    "trainset = torch.utils.data.TensorDataset(sequences_torch_train, labels_torch_train)\n",
    "testset = torch.utils.data.TensorDataset(sequences_torch_test, labels_torch_test)"
   ]
  },
  {
   "cell_type": "code",
   "execution_count": 106,
   "id": "0485bcc2-f44f-4aec-a0e6-493fdf52c1a3",
   "metadata": {
    "scrolled": true
   },
   "outputs": [
    {
     "name": "stdout",
     "output_type": "stream",
     "text": [
      "Training the MLP for reduced_word_lexmin, major_index...\n"
     ]
    },
    {
     "name": "stderr",
     "output_type": "stream",
     "text": [
      "Epoch 1/200: 100%|██████████| 111/111 [00:00<00:00, 471.18it/s]\n"
     ]
    },
    {
     "name": "stdout",
     "output_type": "stream",
     "text": [
      "Epoch 0: Train Acc: 10.74%, Train Loss: 2.7192\n",
      "Test Acc: 12.10%, Test Loss: 2.5495\n"
     ]
    },
    {
     "name": "stderr",
     "output_type": "stream",
     "text": [
      "Epoch 2/200: 100%|██████████| 111/111 [00:00<00:00, 475.44it/s]\n",
      "Epoch 3/200: 100%|██████████| 111/111 [00:00<00:00, 476.91it/s]\n",
      "Epoch 4/200: 100%|██████████| 111/111 [00:00<00:00, 476.52it/s]\n",
      "Epoch 5/200: 100%|██████████| 111/111 [00:00<00:00, 476.63it/s]\n",
      "Epoch 6/200: 100%|██████████| 111/111 [00:00<00:00, 477.16it/s]\n",
      "Epoch 7/200: 100%|██████████| 111/111 [00:00<00:00, 476.71it/s]\n",
      "Epoch 8/200: 100%|██████████| 111/111 [00:00<00:00, 476.03it/s]\n",
      "Epoch 9/200: 100%|██████████| 111/111 [00:00<00:00, 475.82it/s]\n",
      "Epoch 10/200: 100%|██████████| 111/111 [00:00<00:00, 476.30it/s]\n",
      "Epoch 11/200: 100%|██████████| 111/111 [00:00<00:00, 476.43it/s]\n"
     ]
    },
    {
     "name": "stdout",
     "output_type": "stream",
     "text": [
      "Epoch 10: Train Acc: 15.90%, Train Loss: 2.1598\n",
      "Test Acc: 17.26%, Test Loss: 2.2456\n"
     ]
    },
    {
     "name": "stderr",
     "output_type": "stream",
     "text": [
      "Epoch 12/200: 100%|██████████| 111/111 [00:00<00:00, 471.43it/s]\n",
      "Epoch 13/200: 100%|██████████| 111/111 [00:00<00:00, 476.59it/s]\n",
      "Epoch 14/200: 100%|██████████| 111/111 [00:00<00:00, 436.82it/s]\n",
      "Epoch 15/200: 100%|██████████| 111/111 [00:00<00:00, 476.48it/s]\n",
      "Epoch 16/200: 100%|██████████| 111/111 [00:00<00:00, 476.13it/s]\n",
      "Epoch 17/200: 100%|██████████| 111/111 [00:00<00:00, 476.00it/s]\n",
      "Epoch 18/200: 100%|██████████| 111/111 [00:00<00:00, 476.35it/s]\n",
      "Epoch 19/200: 100%|██████████| 111/111 [00:00<00:00, 476.37it/s]\n",
      "Epoch 20/200: 100%|██████████| 111/111 [00:00<00:00, 428.65it/s]\n",
      "Epoch 21/200: 100%|██████████| 111/111 [00:00<00:00, 476.41it/s]\n"
     ]
    },
    {
     "name": "stdout",
     "output_type": "stream",
     "text": [
      "Epoch 20: Train Acc: 21.63%, Train Loss: 1.9348\n",
      "Test Acc: 17.06%, Test Loss: 2.1860\n"
     ]
    },
    {
     "name": "stderr",
     "output_type": "stream",
     "text": [
      "Epoch 22/200: 100%|██████████| 111/111 [00:00<00:00, 476.39it/s]\n",
      "Epoch 23/200: 100%|██████████| 111/111 [00:00<00:00, 475.79it/s]\n",
      "Epoch 24/200: 100%|██████████| 111/111 [00:00<00:00, 475.03it/s]\n",
      "Epoch 25/200: 100%|██████████| 111/111 [00:00<00:00, 476.46it/s]\n",
      "Epoch 26/200: 100%|██████████| 111/111 [00:00<00:00, 476.31it/s]\n",
      "Epoch 27/200: 100%|██████████| 111/111 [00:00<00:00, 475.67it/s]\n",
      "Epoch 28/200: 100%|██████████| 111/111 [00:00<00:00, 471.54it/s]\n",
      "Epoch 29/200: 100%|██████████| 111/111 [00:00<00:00, 475.37it/s]\n",
      "Epoch 30/200: 100%|██████████| 111/111 [00:00<00:00, 476.25it/s]\n",
      "Epoch 31/200: 100%|██████████| 111/111 [00:00<00:00, 475.96it/s]\n"
     ]
    },
    {
     "name": "stdout",
     "output_type": "stream",
     "text": [
      "Epoch 30: Train Acc: 29.25%, Train Loss: 1.7174\n",
      "Test Acc: 18.39%, Test Loss: 2.1291\n"
     ]
    },
    {
     "name": "stderr",
     "output_type": "stream",
     "text": [
      "Epoch 32/200: 100%|██████████| 111/111 [00:00<00:00, 475.95it/s]\n",
      "Epoch 33/200: 100%|██████████| 111/111 [00:00<00:00, 476.56it/s]\n",
      "Epoch 34/200: 100%|██████████| 111/111 [00:00<00:00, 476.29it/s]\n",
      "Epoch 35/200: 100%|██████████| 111/111 [00:00<00:00, 475.73it/s]\n",
      "Epoch 36/200: 100%|██████████| 111/111 [00:00<00:00, 471.95it/s]\n",
      "Epoch 37/200: 100%|██████████| 111/111 [00:00<00:00, 476.08it/s]\n",
      "Epoch 38/200: 100%|██████████| 111/111 [00:00<00:00, 475.99it/s]\n",
      "Epoch 39/200: 100%|██████████| 111/111 [00:00<00:00, 476.61it/s]\n",
      "Epoch 40/200: 100%|██████████| 111/111 [00:00<00:00, 475.79it/s]\n",
      "Epoch 41/200: 100%|██████████| 111/111 [00:00<00:00, 475.64it/s]\n"
     ]
    },
    {
     "name": "stdout",
     "output_type": "stream",
     "text": [
      "Epoch 40: Train Acc: 38.49%, Train Loss: 1.4984\n",
      "Test Acc: 25.53%, Test Loss: 1.9933\n"
     ]
    },
    {
     "name": "stderr",
     "output_type": "stream",
     "text": [
      "Epoch 42/200: 100%|██████████| 111/111 [00:00<00:00, 475.93it/s]\n",
      "Epoch 43/200: 100%|██████████| 111/111 [00:00<00:00, 475.80it/s]\n",
      "Epoch 44/200: 100%|██████████| 111/111 [00:00<00:00, 475.87it/s]\n",
      "Epoch 45/200: 100%|██████████| 111/111 [00:00<00:00, 476.18it/s]\n",
      "Epoch 46/200: 100%|██████████| 111/111 [00:00<00:00, 476.30it/s]\n",
      "Epoch 47/200: 100%|██████████| 111/111 [00:00<00:00, 475.83it/s]\n",
      "Epoch 48/200: 100%|██████████| 111/111 [00:00<00:00, 475.62it/s]\n",
      "Epoch 49/200: 100%|██████████| 111/111 [00:00<00:00, 476.08it/s]\n",
      "Epoch 50/200: 100%|██████████| 111/111 [00:00<00:00, 476.37it/s]\n",
      "Epoch 51/200: 100%|██████████| 111/111 [00:00<00:00, 475.80it/s]\n"
     ]
    },
    {
     "name": "stdout",
     "output_type": "stream",
     "text": [
      "Epoch 50: Train Acc: 46.09%, Train Loss: 1.3019\n",
      "Test Acc: 27.98%, Test Loss: 2.0551\n"
     ]
    },
    {
     "name": "stderr",
     "output_type": "stream",
     "text": [
      "Epoch 52/200: 100%|██████████| 111/111 [00:00<00:00, 475.40it/s]\n",
      "Epoch 53/200: 100%|██████████| 111/111 [00:00<00:00, 471.22it/s]\n",
      "Epoch 54/200: 100%|██████████| 111/111 [00:00<00:00, 475.88it/s]\n",
      "Epoch 55/200: 100%|██████████| 111/111 [00:00<00:00, 475.97it/s]\n",
      "Epoch 56/200: 100%|██████████| 111/111 [00:00<00:00, 476.54it/s]\n",
      "Epoch 57/200: 100%|██████████| 111/111 [00:00<00:00, 432.53it/s]\n",
      "Epoch 58/200: 100%|██████████| 111/111 [00:00<00:00, 476.37it/s]\n",
      "Epoch 59/200: 100%|██████████| 111/111 [00:00<00:00, 476.18it/s]\n",
      "Epoch 60/200: 100%|██████████| 111/111 [00:00<00:00, 473.16it/s]\n",
      "Epoch 61/200: 100%|██████████| 111/111 [00:00<00:00, 476.04it/s]\n"
     ]
    },
    {
     "name": "stdout",
     "output_type": "stream",
     "text": [
      "Epoch 60: Train Acc: 51.84%, Train Loss: 1.1824\n",
      "Test Acc: 32.14%, Test Loss: 2.0477\n"
     ]
    },
    {
     "name": "stderr",
     "output_type": "stream",
     "text": [
      "Epoch 62/200: 100%|██████████| 111/111 [00:00<00:00, 475.63it/s]\n",
      "Epoch 63/200: 100%|██████████| 111/111 [00:00<00:00, 475.42it/s]\n",
      "Epoch 64/200: 100%|██████████| 111/111 [00:00<00:00, 476.50it/s]\n",
      "Epoch 65/200: 100%|██████████| 111/111 [00:00<00:00, 472.69it/s]\n",
      "Epoch 66/200: 100%|██████████| 111/111 [00:00<00:00, 475.91it/s]\n",
      "Epoch 67/200: 100%|██████████| 111/111 [00:00<00:00, 476.24it/s]\n",
      "Epoch 68/200: 100%|██████████| 111/111 [00:00<00:00, 476.19it/s]\n",
      "Epoch 69/200: 100%|██████████| 111/111 [00:00<00:00, 471.79it/s]\n",
      "Epoch 70/200: 100%|██████████| 111/111 [00:00<00:00, 477.02it/s]\n",
      "Epoch 71/200: 100%|██████████| 111/111 [00:00<00:00, 476.54it/s]\n"
     ]
    },
    {
     "name": "stdout",
     "output_type": "stream",
     "text": [
      "Epoch 70: Train Acc: 55.95%, Train Loss: 1.0674\n",
      "Test Acc: 32.14%, Test Loss: 2.1111\n"
     ]
    },
    {
     "name": "stderr",
     "output_type": "stream",
     "text": [
      "Epoch 72/200: 100%|██████████| 111/111 [00:00<00:00, 476.58it/s]\n",
      "Epoch 73/200: 100%|██████████| 111/111 [00:00<00:00, 476.56it/s]\n",
      "Epoch 74/200: 100%|██████████| 111/111 [00:00<00:00, 475.34it/s]\n",
      "Epoch 75/200: 100%|██████████| 111/111 [00:00<00:00, 476.46it/s]\n",
      "Epoch 76/200: 100%|██████████| 111/111 [00:00<00:00, 474.63it/s]\n",
      "Epoch 77/200: 100%|██████████| 111/111 [00:00<00:00, 477.07it/s]\n",
      "Epoch 78/200: 100%|██████████| 111/111 [00:00<00:00, 476.86it/s]\n",
      "Epoch 79/200: 100%|██████████| 111/111 [00:00<00:00, 476.95it/s]\n",
      "Epoch 80/200: 100%|██████████| 111/111 [00:00<00:00, 476.04it/s]\n",
      "Epoch 81/200: 100%|██████████| 111/111 [00:00<00:00, 476.19it/s]\n"
     ]
    },
    {
     "name": "stdout",
     "output_type": "stream",
     "text": [
      "Epoch 80: Train Acc: 59.92%, Train Loss: 0.9770\n",
      "Test Acc: 34.13%, Test Loss: 2.0908\n"
     ]
    },
    {
     "name": "stderr",
     "output_type": "stream",
     "text": [
      "Epoch 82/200: 100%|██████████| 111/111 [00:00<00:00, 476.47it/s]\n",
      "Epoch 83/200: 100%|██████████| 111/111 [00:00<00:00, 476.23it/s]\n",
      "Epoch 84/200: 100%|██████████| 111/111 [00:00<00:00, 476.36it/s]\n",
      "Epoch 85/200: 100%|██████████| 111/111 [00:00<00:00, 471.35it/s]\n",
      "Epoch 86/200: 100%|██████████| 111/111 [00:00<00:00, 476.84it/s]\n",
      "Epoch 87/200: 100%|██████████| 111/111 [00:00<00:00, 476.98it/s]\n",
      "Epoch 88/200: 100%|██████████| 111/111 [00:00<00:00, 476.76it/s]\n",
      "Epoch 89/200: 100%|██████████| 111/111 [00:00<00:00, 476.25it/s]\n",
      "Epoch 90/200: 100%|██████████| 111/111 [00:00<00:00, 476.19it/s]\n",
      "Epoch 91/200: 100%|██████████| 111/111 [00:00<00:00, 476.53it/s]\n"
     ]
    },
    {
     "name": "stdout",
     "output_type": "stream",
     "text": [
      "Epoch 90: Train Acc: 64.03%, Train Loss: 0.8874\n",
      "Test Acc: 35.98%, Test Loss: 2.1436\n"
     ]
    },
    {
     "name": "stderr",
     "output_type": "stream",
     "text": [
      "Epoch 92/200: 100%|██████████| 111/111 [00:00<00:00, 476.71it/s]\n",
      "Epoch 93/200: 100%|██████████| 111/111 [00:00<00:00, 471.71it/s]\n",
      "Epoch 94/200: 100%|██████████| 111/111 [00:00<00:00, 431.71it/s]\n",
      "Epoch 95/200: 100%|██████████| 111/111 [00:00<00:00, 476.83it/s]\n",
      "Epoch 96/200: 100%|██████████| 111/111 [00:00<00:00, 476.21it/s]\n",
      "Epoch 97/200: 100%|██████████| 111/111 [00:00<00:00, 476.77it/s]\n",
      "Epoch 98/200: 100%|██████████| 111/111 [00:00<00:00, 476.41it/s]\n",
      "Epoch 99/200: 100%|██████████| 111/111 [00:00<00:00, 476.68it/s]\n",
      "Epoch 100/200: 100%|██████████| 111/111 [00:00<00:00, 476.37it/s]\n",
      "Epoch 101/200: 100%|██████████| 111/111 [00:00<00:00, 471.85it/s]\n"
     ]
    },
    {
     "name": "stdout",
     "output_type": "stream",
     "text": [
      "Epoch 100: Train Acc: 68.31%, Train Loss: 0.8010\n",
      "Test Acc: 35.52%, Test Loss: 2.2599\n"
     ]
    },
    {
     "name": "stderr",
     "output_type": "stream",
     "text": [
      "Epoch 102/200: 100%|██████████| 111/111 [00:00<00:00, 474.09it/s]\n",
      "Epoch 103/200: 100%|██████████| 111/111 [00:00<00:00, 476.18it/s]\n",
      "Epoch 104/200: 100%|██████████| 111/111 [00:00<00:00, 476.35it/s]\n",
      "Epoch 105/200: 100%|██████████| 111/111 [00:00<00:00, 476.30it/s]\n",
      "Epoch 106/200: 100%|██████████| 111/111 [00:00<00:00, 475.67it/s]\n",
      "Epoch 107/200: 100%|██████████| 111/111 [00:00<00:00, 476.68it/s]\n",
      "Epoch 108/200: 100%|██████████| 111/111 [00:00<00:00, 476.54it/s]\n",
      "Epoch 109/200: 100%|██████████| 111/111 [00:00<00:00, 471.99it/s]\n",
      "Epoch 110/200: 100%|██████████| 111/111 [00:00<00:00, 476.96it/s]\n",
      "Epoch 111/200: 100%|██████████| 111/111 [00:00<00:00, 477.21it/s]\n"
     ]
    },
    {
     "name": "stdout",
     "output_type": "stream",
     "text": [
      "Epoch 110: Train Acc: 72.22%, Train Loss: 0.7324\n",
      "Test Acc: 40.54%, Test Loss: 2.0601\n"
     ]
    },
    {
     "name": "stderr",
     "output_type": "stream",
     "text": [
      "Epoch 112/200: 100%|██████████| 111/111 [00:00<00:00, 476.77it/s]\n",
      "Epoch 113/200: 100%|██████████| 111/111 [00:00<00:00, 476.84it/s]\n",
      "Epoch 114/200: 100%|██████████| 111/111 [00:00<00:00, 476.69it/s]\n",
      "Epoch 115/200: 100%|██████████| 111/111 [00:00<00:00, 476.74it/s]\n",
      "Epoch 116/200: 100%|██████████| 111/111 [00:00<00:00, 476.70it/s]\n",
      "Epoch 117/200: 100%|██████████| 111/111 [00:00<00:00, 472.05it/s]\n",
      "Epoch 118/200: 100%|██████████| 111/111 [00:00<00:00, 476.62it/s]\n",
      "Epoch 119/200: 100%|██████████| 111/111 [00:00<00:00, 478.15it/s]\n",
      "Epoch 120/200: 100%|██████████| 111/111 [00:00<00:00, 477.44it/s]\n",
      "Epoch 121/200: 100%|██████████| 111/111 [00:00<00:00, 476.97it/s]\n"
     ]
    },
    {
     "name": "stdout",
     "output_type": "stream",
     "text": [
      "Epoch 120: Train Acc: 75.26%, Train Loss: 0.6677\n",
      "Test Acc: 42.59%, Test Loss: 2.0922\n"
     ]
    },
    {
     "name": "stderr",
     "output_type": "stream",
     "text": [
      "Epoch 122/200: 100%|██████████| 111/111 [00:00<00:00, 476.69it/s]\n",
      "Epoch 123/200: 100%|██████████| 111/111 [00:00<00:00, 476.71it/s]\n",
      "Epoch 124/200: 100%|██████████| 111/111 [00:00<00:00, 476.94it/s]\n",
      "Epoch 125/200: 100%|██████████| 111/111 [00:00<00:00, 473.74it/s]\n",
      "Epoch 126/200: 100%|██████████| 111/111 [00:00<00:00, 476.88it/s]\n",
      "Epoch 127/200: 100%|██████████| 111/111 [00:00<00:00, 476.40it/s]\n",
      "Epoch 128/200: 100%|██████████| 111/111 [00:00<00:00, 475.45it/s]\n",
      "Epoch 129/200: 100%|██████████| 111/111 [00:00<00:00, 477.37it/s]\n",
      "Epoch 130/200: 100%|██████████| 111/111 [00:00<00:00, 472.73it/s]\n",
      "Epoch 131/200: 100%|██████████| 111/111 [00:00<00:00, 471.68it/s]\n"
     ]
    },
    {
     "name": "stdout",
     "output_type": "stream",
     "text": [
      "Epoch 130: Train Acc: 78.15%, Train Loss: 0.6015\n",
      "Test Acc: 42.72%, Test Loss: 2.1730\n"
     ]
    },
    {
     "name": "stderr",
     "output_type": "stream",
     "text": [
      "Epoch 132/200: 100%|██████████| 111/111 [00:00<00:00, 475.80it/s]\n",
      "Epoch 133/200: 100%|██████████| 111/111 [00:00<00:00, 471.92it/s]\n",
      "Epoch 134/200: 100%|██████████| 111/111 [00:00<00:00, 476.67it/s]\n",
      "Epoch 135/200: 100%|██████████| 111/111 [00:00<00:00, 475.78it/s]\n",
      "Epoch 136/200: 100%|██████████| 111/111 [00:00<00:00, 476.34it/s]\n",
      "Epoch 137/200: 100%|██████████| 111/111 [00:00<00:00, 476.60it/s]\n",
      "Epoch 138/200: 100%|██████████| 111/111 [00:00<00:00, 473.45it/s]\n",
      "Epoch 139/200: 100%|██████████| 111/111 [00:00<00:00, 475.78it/s]\n",
      "Epoch 140/200: 100%|██████████| 111/111 [00:00<00:00, 476.75it/s]\n",
      "Epoch 141/200: 100%|██████████| 111/111 [00:00<00:00, 473.41it/s]\n"
     ]
    },
    {
     "name": "stdout",
     "output_type": "stream",
     "text": [
      "Epoch 140: Train Acc: 79.88%, Train Loss: 0.5724\n",
      "Test Acc: 45.70%, Test Loss: 2.0698\n"
     ]
    },
    {
     "name": "stderr",
     "output_type": "stream",
     "text": [
      "Epoch 142/200: 100%|██████████| 111/111 [00:00<00:00, 476.38it/s]\n",
      "Epoch 143/200: 100%|██████████| 111/111 [00:00<00:00, 476.82it/s]\n",
      "Epoch 144/200: 100%|██████████| 111/111 [00:00<00:00, 476.67it/s]\n",
      "Epoch 145/200: 100%|██████████| 111/111 [00:00<00:00, 476.49it/s]\n",
      "Epoch 146/200: 100%|██████████| 111/111 [00:00<00:00, 476.45it/s]\n",
      "Epoch 147/200: 100%|██████████| 111/111 [00:00<00:00, 476.84it/s]\n",
      "Epoch 148/200: 100%|██████████| 111/111 [00:00<00:00, 475.30it/s]\n",
      "Epoch 149/200: 100%|██████████| 111/111 [00:00<00:00, 476.57it/s]\n",
      "Epoch 150/200: 100%|██████████| 111/111 [00:00<00:00, 471.57it/s]\n",
      "Epoch 151/200: 100%|██████████| 111/111 [00:00<00:00, 476.25it/s]\n"
     ]
    },
    {
     "name": "stdout",
     "output_type": "stream",
     "text": [
      "Epoch 150: Train Acc: 81.35%, Train Loss: 0.4940\n",
      "Test Acc: 46.83%, Test Loss: 2.1886\n"
     ]
    },
    {
     "name": "stderr",
     "output_type": "stream",
     "text": [
      "Epoch 152/200: 100%|██████████| 111/111 [00:00<00:00, 476.66it/s]\n",
      "Epoch 153/200: 100%|██████████| 111/111 [00:00<00:00, 476.78it/s]\n",
      "Epoch 154/200: 100%|██████████| 111/111 [00:00<00:00, 476.23it/s]\n",
      "Epoch 155/200: 100%|██████████| 111/111 [00:00<00:00, 477.04it/s]\n",
      "Epoch 156/200: 100%|██████████| 111/111 [00:00<00:00, 476.13it/s]\n",
      "Epoch 157/200: 100%|██████████| 111/111 [00:00<00:00, 476.34it/s]\n",
      "Epoch 158/200: 100%|██████████| 111/111 [00:00<00:00, 471.00it/s]\n",
      "Epoch 159/200: 100%|██████████| 111/111 [00:00<00:00, 475.35it/s]\n",
      "Epoch 160/200: 100%|██████████| 111/111 [00:00<00:00, 476.43it/s]\n",
      "Epoch 161/200: 100%|██████████| 111/111 [00:00<00:00, 475.78it/s]\n"
     ]
    },
    {
     "name": "stdout",
     "output_type": "stream",
     "text": [
      "Epoch 160: Train Acc: 82.71%, Train Loss: 0.4775\n",
      "Test Acc: 50.07%, Test Loss: 1.9922\n"
     ]
    },
    {
     "name": "stderr",
     "output_type": "stream",
     "text": [
      "Epoch 162/200: 100%|██████████| 111/111 [00:00<00:00, 476.47it/s]\n",
      "Epoch 163/200: 100%|██████████| 111/111 [00:00<00:00, 476.25it/s]\n",
      "Epoch 164/200: 100%|██████████| 111/111 [00:00<00:00, 476.28it/s]\n",
      "Epoch 165/200: 100%|██████████| 111/111 [00:00<00:00, 476.17it/s]\n",
      "Epoch 166/200: 100%|██████████| 111/111 [00:00<00:00, 471.60it/s]\n",
      "Epoch 167/200: 100%|██████████| 111/111 [00:00<00:00, 437.42it/s]\n",
      "Epoch 168/200: 100%|██████████| 111/111 [00:00<00:00, 472.53it/s]\n",
      "Epoch 169/200: 100%|██████████| 111/111 [00:00<00:00, 476.30it/s]\n",
      "Epoch 170/200: 100%|██████████| 111/111 [00:00<00:00, 476.23it/s]\n",
      "Epoch 171/200: 100%|██████████| 111/111 [00:00<00:00, 475.35it/s]\n"
     ]
    },
    {
     "name": "stdout",
     "output_type": "stream",
     "text": [
      "Epoch 170: Train Acc: 85.06%, Train Loss: 0.4346\n",
      "Test Acc: 47.29%, Test Loss: 2.2052\n"
     ]
    },
    {
     "name": "stderr",
     "output_type": "stream",
     "text": [
      "Epoch 172/200: 100%|██████████| 111/111 [00:00<00:00, 475.92it/s]\n",
      "Epoch 173/200: 100%|██████████| 111/111 [00:00<00:00, 475.78it/s]\n",
      "Epoch 174/200: 100%|██████████| 111/111 [00:00<00:00, 471.42it/s]\n",
      "Epoch 175/200: 100%|██████████| 111/111 [00:00<00:00, 473.15it/s]\n",
      "Epoch 176/200: 100%|██████████| 111/111 [00:00<00:00, 475.65it/s]\n",
      "Epoch 177/200: 100%|██████████| 111/111 [00:00<00:00, 476.09it/s]\n",
      "Epoch 178/200: 100%|██████████| 111/111 [00:00<00:00, 476.60it/s]\n",
      "Epoch 179/200: 100%|██████████| 111/111 [00:00<00:00, 476.28it/s]\n",
      "Epoch 180/200: 100%|██████████| 111/111 [00:00<00:00, 476.24it/s]\n",
      "Epoch 181/200: 100%|██████████| 111/111 [00:00<00:00, 475.82it/s]\n"
     ]
    },
    {
     "name": "stdout",
     "output_type": "stream",
     "text": [
      "Epoch 180: Train Acc: 82.79%, Train Loss: 0.4665\n",
      "Test Acc: 51.79%, Test Loss: 2.1221\n"
     ]
    },
    {
     "name": "stderr",
     "output_type": "stream",
     "text": [
      "Epoch 182/200: 100%|██████████| 111/111 [00:00<00:00, 471.39it/s]\n",
      "Epoch 183/200: 100%|██████████| 111/111 [00:00<00:00, 476.23it/s]\n",
      "Epoch 184/200: 100%|██████████| 111/111 [00:00<00:00, 476.07it/s]\n",
      "Epoch 185/200: 100%|██████████| 111/111 [00:00<00:00, 476.21it/s]\n",
      "Epoch 186/200: 100%|██████████| 111/111 [00:00<00:00, 476.20it/s]\n",
      "Epoch 187/200: 100%|██████████| 111/111 [00:00<00:00, 476.05it/s]\n",
      "Epoch 188/200: 100%|██████████| 111/111 [00:00<00:00, 475.85it/s]\n",
      "Epoch 189/200: 100%|██████████| 111/111 [00:00<00:00, 476.09it/s]\n",
      "Epoch 190/200: 100%|██████████| 111/111 [00:00<00:00, 471.55it/s]\n",
      "Epoch 191/200: 100%|██████████| 111/111 [00:00<00:00, 475.72it/s]\n"
     ]
    },
    {
     "name": "stdout",
     "output_type": "stream",
     "text": [
      "Epoch 190: Train Acc: 85.63%, Train Loss: 0.4117\n",
      "Test Acc: 50.79%, Test Loss: 2.1503\n"
     ]
    },
    {
     "name": "stderr",
     "output_type": "stream",
     "text": [
      "Epoch 192/200: 100%|██████████| 111/111 [00:00<00:00, 475.59it/s]\n",
      "Epoch 193/200: 100%|██████████| 111/111 [00:00<00:00, 474.93it/s]\n",
      "Epoch 194/200: 100%|██████████| 111/111 [00:00<00:00, 476.34it/s]\n",
      "Epoch 195/200: 100%|██████████| 111/111 [00:00<00:00, 476.07it/s]\n",
      "Epoch 196/200: 100%|██████████| 111/111 [00:00<00:00, 475.64it/s]\n",
      "Epoch 197/200: 100%|██████████| 111/111 [00:00<00:00, 475.78it/s]\n",
      "Epoch 198/200: 100%|██████████| 111/111 [00:00<00:00, 470.96it/s]\n",
      "Epoch 199/200: 100%|██████████| 111/111 [00:00<00:00, 475.77it/s]\n",
      "Epoch 200/200: 100%|██████████| 111/111 [00:00<00:00, 475.42it/s]\n"
     ]
    }
   ],
   "source": [
    "print(f'Training the MLP for {representation}, {statistic}...')\n",
    "best_accuracy = 0\n",
    "\n",
    "# Create and train the model with the specified hyperparameters\n",
    "model = FeedForward(dimensions=[input_size, 128, 128, 64], num_classes=output_size, dropout_rate=DROPOUT)\n",
    "model.to(device)\n",
    "criterion = nn.CrossEntropyLoss()\n",
    "optimizer = torch.optim.Adam(model.parameters(), lr=LR, weight_decay=WEIGHT_DECAY)\n",
    "\n",
    "trainloader = DataLoader(trainset, batch_size=BATCH_SIZE, shuffle=True)\n",
    "testloader = DataLoader(testset, batch_size=BATCH_SIZE, shuffle=False)\n",
    "\n",
    "# Train the model\n",
    "all_train_loss, all_train_acc, all_test_loss, all_test_acc = train( model, trainloader, testloader, criterion, \n",
    "                                                                   optimizer, epochs=EPOCHS, bs=BATCH_SIZE, when_to_print=10)\n"
   ]
  },
  {
   "cell_type": "code",
   "execution_count": 107,
   "id": "2c9efd04-e818-4805-8113-3124fa0b0550",
   "metadata": {},
   "outputs": [
    {
     "data": {
      "image/png": "[encoded data removed]",
      "text/plain": [
       "<Figure size 800x550 with 1 Axes>"
      ]
     },
     "metadata": {},
     "output_type": "display_data"
    }
   ],
   "source": [
    "plt.title(f'Loss curve for representation:{representation},\\n statistic:{statistic},\\n N = {N}')\n",
    "plt.xlabel('EPOCH')\n",
    "plt.ylabel('Loss')\n",
    "plt.plot(all_train_loss, label = 'train data')\n",
    "plt.plot(all_test_loss, label= 'test data')\n",
    "plt.legend()\n",
    "plt.show()"
   ]
  },
  {
   "cell_type": "code",
   "execution_count": 108,
   "id": "d2daff42-740a-43f0-9c41-e6eb525b1256",
   "metadata": {},
   "outputs": [
    {
     "data": {
      "image/png": "[encoded data removed]",
      "text/plain": [
       "<Figure size 800x550 with 1 Axes>"
      ]
     },
     "metadata": {},
     "output_type": "display_data"
    }
   ],
   "source": [
    "plt.title(f'Model accuracy for representation:{representation},\\n statistic:{statistic},\\n N = {N}')\n",
    "plt.xlabel('EPOCH')\n",
    "plt.ylabel('Accuracy')\n",
    "plt.plot(all_train_acc, label = 'train data')\n",
    "plt.plot(all_test_acc, label= 'test data')\n",
    "plt.legend()\n",
    "plt.show()"
   ]
  },
  {
   "cell_type": "markdown",
   "id": "8e3041df-42c0-4e08-b298-db80477bf2fb",
   "metadata": {},
   "source": [
    "Notice:\n",
    "This computer software was prepared by Battelle Memorial Institute, hereinafter the Contractor, under Contract No. DE-AC05-76RL01830 with the Department of Energy (DOE).  All rights in the computer software are reserved by DOE on behalf of the United States Government and the Contractor as provided in the Contract.  You are authorized to use this computer software but it is not to be redistributed.  NEITHER THE GOVERNMENT NOR THE CONTRACTOR MAKES ANY WARRANTY, EXPRESS OR IMPLIED, OR ASSUMES ANY LIABILITY FOR THE USE OF THIS SOFTWARE.  This notice including this sentence must appear on any copies of this computer software.\n",
    " \n",
    "Disclaimer:\n",
    "This material was prepared as an account of work sponsored by an agency of the\n",
    "United States Government.  Neither the United States Government nor the United\n",
    "States Department of Energy, nor Battelle, nor any of their employees, nor any\n",
    "jurisdiction or organization that has cooperated in the development of these\n",
    "materials, makes any warranty, express or implied, or assumes any legal\n",
    "liability or responsibility for the accuracy, completeness, or usefulness or\n",
    "any information, apparatus, product, software, or process disclosed, or\n",
    "represents that its use would not infringe privately owned rights.\n",
    " \n",
    "Reference herein to any specific commercial product, process, or service by\n",
    "trade name, trademark, manufacturer, or otherwise does not necessarily\n",
    "constitute or imply its endorsement, recommendation, or favoring by the United\n",
    "States Government or any agency thereof, or Battelle Memorial Institute. The\n",
    "views and opinions of authors expressed herein do not necessarily state or\n",
    "reflect those of the United States Government or any agency thereof.\n",
    " \n",
    "                 PACIFIC NORTHWEST NATIONAL LABORATORY\n",
    "                              operated by\n",
    "                                BATTELLE\n",
    "                                for the\n",
    "                   UNITED STATES DEPARTMENT OF ENERGY\n",
    "                    under Contract DE-AC05-76RL01830"
   ]
  },
  {
   "cell_type": "markdown",
   "id": "7c3953b1",
   "metadata": {},
   "source": []
  }
 ],
 "metadata": {
  "kernelspec": {
   "display_name": "permutation",
   "language": "python",
   "name": "permutation"
  },
  "language_info": {
   "codemirror_mode": {
    "name": "ipython",
    "version": 3
   },
   "file_extension": ".py",
   "mimetype": "text/x-python",
   "name": "python",
   "nbconvert_exporter": "python",
   "pygments_lexer": "ipython3",
   "version": "3.11.12"
  }
 },
 "nbformat": 4,
 "nbformat_minor": 5
}
